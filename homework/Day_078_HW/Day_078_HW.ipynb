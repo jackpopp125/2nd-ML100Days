{
 "cells": [
  {
   "cell_type": "markdown",
   "metadata": {},
   "source": [
    "## 範例重點\n",
    "\n",
    "學習在模型開始前檢查各個環節\n",
    "\n",
    "是否有 GPU 資源\n",
    "\n",
    "將前處理轉為函式，統一處理訓練、驗證與測試集\n",
    "\n",
    "將超參數變數化，易於重複使用函式、模型等"
   ]
  },
  {
   "cell_type": "code",
   "execution_count": 1,
   "metadata": {},
   "outputs": [
    {
     "name": "stdout",
     "output_type": "stream",
     "text": [
      "/bin/sh: nvidia-smi: command not found\r\n"
     ]
    }
   ],
   "source": [
    "## 確認硬體資源 (如果你是在 Linux, 若是在 Windows, 請參考 https://blog.csdn.net/idwtwt/article/details/78017565)\n",
    "!nvidia-smi"
   ]
  },
  {
   "cell_type": "markdown",
   "metadata": {},
   "source": [
    "https://github.com/phvu/cuda-smi\n",
    "\n",
    "On Windows/Linux, there is a program called nvidia-smi for checking the memory and general statistics of GPUs.\n",
    "\n",
    "There is no such thing on MacOS.\n",
    "\n",
    "This program tries to bring that ability to MacOS. The main functionality is to display memory usage of each GPU."
   ]
  },
  {
   "cell_type": "code",
   "execution_count": 3,
   "metadata": {},
   "outputs": [
    {
     "name": "stderr",
     "output_type": "stream",
     "text": [
      "Using TensorFlow backend.\n"
     ]
    }
   ],
   "source": [
    "import os\n",
    "import keras\n",
    "\n",
    "# 本範例不需使用 GPU, 將 GPU 設定為 \"無\"\n",
    "os.environ[\"CUDA_VISIBLE_DEVICES\"] = \"\""
   ]
  },
  {
   "cell_type": "code",
   "execution_count": 4,
   "metadata": {},
   "outputs": [],
   "source": [
    "# 從 Keras 的內建功能中，取得 train 與 test 資料集\n",
    "train, test = keras.datasets.cifar10.load_data()"
   ]
  },
  {
   "cell_type": "code",
   "execution_count": 5,
   "metadata": {},
   "outputs": [],
   "source": [
    "## 資料前處理\n",
    "def preproc_x(x, flatten=True):\n",
    "    x = x / 255.\n",
    "    if flatten:\n",
    "        x = x.reshape((len(x), -1))\n",
    "    return x\n",
    "\n",
    "def preproc_y(y, num_classes=10):\n",
    "    if y.shape[-1] == 1:\n",
    "        y = keras.utils.to_categorical(y, num_classes)\n",
    "    return y    "
   ]
  },
  {
   "cell_type": "code",
   "execution_count": 6,
   "metadata": {},
   "outputs": [],
   "source": [
    "x_train, y_train = train\n",
    "x_test, y_test = test\n",
    "\n",
    "# 資料前處理 - X 標準化\n",
    "x_train = preproc_x(x_train)\n",
    "x_test = preproc_x(x_test)\n",
    "\n",
    "# 資料前處理 -Y 轉成 onehot\n",
    "y_train = preproc_y(y_train)\n",
    "y_test = preproc_y(y_test)"
   ]
  },
  {
   "cell_type": "code",
   "execution_count": 7,
   "metadata": {},
   "outputs": [],
   "source": [
    "def build_mlp(input_shape, output_units=10, num_neurons=[512, 256, 128]):\n",
    "    input_layer = keras.layers.Input(input_shape)\n",
    "    \n",
    "    for i, n_units in enumerate(num_neurons):\n",
    "        if i == 0:\n",
    "            x = keras.layers.Dense(units=n_units, activation=\"relu\", name=\"hidden_layer\"+str(i+1))(input_layer)\n",
    "        else:\n",
    "            x = keras.layers.Dense(units=n_units, activation=\"relu\", name=\"hidden_layer\"+str(i+1))(x)\n",
    "    \n",
    "    out = keras.layers.Dense(units=output_units, activation=\"softmax\", name=\"output\")(x)\n",
    "    \n",
    "    model = keras.models.Model(inputs=[input_layer], outputs=[out])\n",
    "    return model"
   ]
  },
  {
   "cell_type": "code",
   "execution_count": 8,
   "metadata": {},
   "outputs": [
    {
     "name": "stderr",
     "output_type": "stream",
     "text": [
      "WARNING: Logging before flag parsing goes to stderr.\n",
      "W0720 15:18:43.981170 4811568576 deprecation_wrapper.py:119] From /Users/johnsonhuang/anaconda3/envs/tensorflow/lib/python3.6/site-packages/keras/backend/tensorflow_backend.py:74: The name tf.get_default_graph is deprecated. Please use tf.compat.v1.get_default_graph instead.\n",
      "\n",
      "W0720 15:18:44.038464 4811568576 deprecation_wrapper.py:119] From /Users/johnsonhuang/anaconda3/envs/tensorflow/lib/python3.6/site-packages/keras/backend/tensorflow_backend.py:517: The name tf.placeholder is deprecated. Please use tf.compat.v1.placeholder instead.\n",
      "\n",
      "W0720 15:18:44.066436 4811568576 deprecation_wrapper.py:119] From /Users/johnsonhuang/anaconda3/envs/tensorflow/lib/python3.6/site-packages/keras/backend/tensorflow_backend.py:4138: The name tf.random_uniform is deprecated. Please use tf.random.uniform instead.\n",
      "\n"
     ]
    },
    {
     "name": "stdout",
     "output_type": "stream",
     "text": [
      "_________________________________________________________________\n",
      "Layer (type)                 Output Shape              Param #   \n",
      "=================================================================\n",
      "input_1 (InputLayer)         (None, 3072)              0         \n",
      "_________________________________________________________________\n",
      "hidden_layer1 (Dense)        (None, 512)               1573376   \n",
      "_________________________________________________________________\n",
      "hidden_layer2 (Dense)        (None, 256)               131328    \n",
      "_________________________________________________________________\n",
      "hidden_layer3 (Dense)        (None, 128)               32896     \n",
      "_________________________________________________________________\n",
      "output (Dense)               (None, 10)                1290      \n",
      "=================================================================\n",
      "Total params: 1,738,890\n",
      "Trainable params: 1,738,890\n",
      "Non-trainable params: 0\n",
      "_________________________________________________________________\n"
     ]
    }
   ],
   "source": [
    "model = build_mlp(input_shape=x_train.shape[1:])\n",
    "model.summary()"
   ]
  },
  {
   "cell_type": "code",
   "execution_count": 9,
   "metadata": {},
   "outputs": [],
   "source": [
    "## 超參數設定\n",
    "LEARNING_RATE = 0.001\n",
    "EPOCHS = 100\n",
    "BATCH_SIZE = 256"
   ]
  },
  {
   "cell_type": "code",
   "execution_count": 10,
   "metadata": {},
   "outputs": [
    {
     "name": "stderr",
     "output_type": "stream",
     "text": [
      "W0720 15:19:01.228672 4811568576 deprecation_wrapper.py:119] From /Users/johnsonhuang/anaconda3/envs/tensorflow/lib/python3.6/site-packages/keras/optimizers.py:790: The name tf.train.Optimizer is deprecated. Please use tf.compat.v1.train.Optimizer instead.\n",
      "\n",
      "W0720 15:19:01.237677 4811568576 deprecation_wrapper.py:119] From /Users/johnsonhuang/anaconda3/envs/tensorflow/lib/python3.6/site-packages/keras/backend/tensorflow_backend.py:3295: The name tf.log is deprecated. Please use tf.math.log instead.\n",
      "\n"
     ]
    }
   ],
   "source": [
    "optimizer = keras.optimizers.Adam(lr=LEARNING_RATE)\n",
    "model.compile(loss=\"categorical_crossentropy\", metrics=[\"accuracy\"], optimizer=optimizer)"
   ]
  },
  {
   "cell_type": "code",
   "execution_count": 11,
   "metadata": {},
   "outputs": [
    {
     "name": "stderr",
     "output_type": "stream",
     "text": [
      "W0720 15:19:09.794455 4811568576 deprecation.py:323] From /Users/johnsonhuang/anaconda3/envs/tensorflow/lib/python3.6/site-packages/tensorflow/python/ops/math_grad.py:1250: add_dispatch_support.<locals>.wrapper (from tensorflow.python.ops.array_ops) is deprecated and will be removed in a future version.\n",
      "Instructions for updating:\n",
      "Use tf.where in 2.0, which has the same broadcast rule as np.where\n",
      "W0720 15:19:09.871388 4811568576 deprecation_wrapper.py:119] From /Users/johnsonhuang/anaconda3/envs/tensorflow/lib/python3.6/site-packages/keras/backend/tensorflow_backend.py:986: The name tf.assign_add is deprecated. Please use tf.compat.v1.assign_add instead.\n",
      "\n"
     ]
    },
    {
     "name": "stdout",
     "output_type": "stream",
     "text": [
      "Train on 50000 samples, validate on 10000 samples\n",
      "Epoch 1/100\n",
      "50000/50000 [==============================] - 20s 408us/step - loss: 1.9290 - acc: 0.3084 - val_loss: 1.7732 - val_acc: 0.3664\n",
      "Epoch 2/100\n",
      "50000/50000 [==============================] - 8s 167us/step - loss: 1.7048 - acc: 0.3907 - val_loss: 1.6689 - val_acc: 0.4081\n",
      "Epoch 3/100\n",
      "50000/50000 [==============================] - 8s 165us/step - loss: 1.6260 - acc: 0.4216 - val_loss: 1.6155 - val_acc: 0.4306\n",
      "Epoch 4/100\n",
      "50000/50000 [==============================] - 8s 158us/step - loss: 1.5552 - acc: 0.4465 - val_loss: 1.5908 - val_acc: 0.4370\n",
      "Epoch 5/100\n",
      "50000/50000 [==============================] - 8s 160us/step - loss: 1.5051 - acc: 0.4644 - val_loss: 1.4793 - val_acc: 0.4719\n",
      "Epoch 6/100\n",
      "50000/50000 [==============================] - 8s 161us/step - loss: 1.4637 - acc: 0.4777 - val_loss: 1.5335 - val_acc: 0.4606\n",
      "Epoch 7/100\n",
      "50000/50000 [==============================] - 13s 260us/step - loss: 1.4319 - acc: 0.4899 - val_loss: 1.4854 - val_acc: 0.4731\n",
      "Epoch 8/100\n",
      "50000/50000 [==============================] - 13s 260us/step - loss: 1.4011 - acc: 0.5018 - val_loss: 1.4854 - val_acc: 0.4657\n",
      "Epoch 9/100\n",
      "50000/50000 [==============================] - 7s 145us/step - loss: 1.3767 - acc: 0.5090 - val_loss: 1.4651 - val_acc: 0.4818\n",
      "Epoch 10/100\n",
      "50000/50000 [==============================] - 8s 169us/step - loss: 1.3494 - acc: 0.5193 - val_loss: 1.4418 - val_acc: 0.4804\n",
      "Epoch 11/100\n",
      "50000/50000 [==============================] - 7s 145us/step - loss: 1.3280 - acc: 0.5257 - val_loss: 1.3998 - val_acc: 0.5020\n",
      "Epoch 12/100\n",
      "50000/50000 [==============================] - 8s 153us/step - loss: 1.3009 - acc: 0.5374 - val_loss: 1.4117 - val_acc: 0.5056\n",
      "Epoch 13/100\n",
      "50000/50000 [==============================] - 10s 202us/step - loss: 1.2768 - acc: 0.5458 - val_loss: 1.4019 - val_acc: 0.4995\n",
      "Epoch 14/100\n",
      "50000/50000 [==============================] - 8s 165us/step - loss: 1.2551 - acc: 0.5551 - val_loss: 1.3919 - val_acc: 0.5011\n",
      "Epoch 15/100\n",
      "50000/50000 [==============================] - 9s 177us/step - loss: 1.2222 - acc: 0.5654 - val_loss: 1.3857 - val_acc: 0.5103\n",
      "Epoch 16/100\n",
      "50000/50000 [==============================] - 10s 200us/step - loss: 1.2139 - acc: 0.5663 - val_loss: 1.3574 - val_acc: 0.5217\n",
      "Epoch 17/100\n",
      "50000/50000 [==============================] - 8s 166us/step - loss: 1.1861 - acc: 0.5770 - val_loss: 1.4026 - val_acc: 0.5133\n",
      "Epoch 18/100\n",
      "50000/50000 [==============================] - 11s 221us/step - loss: 1.1713 - acc: 0.5809 - val_loss: 1.3593 - val_acc: 0.5159\n",
      "Epoch 19/100\n",
      "50000/50000 [==============================] - 12s 241us/step - loss: 1.1491 - acc: 0.5897 - val_loss: 1.3850 - val_acc: 0.5111\n",
      "Epoch 20/100\n",
      "50000/50000 [==============================] - 10s 193us/step - loss: 1.1255 - acc: 0.5985 - val_loss: 1.4430 - val_acc: 0.5049\n",
      "Epoch 21/100\n",
      "50000/50000 [==============================] - 12s 231us/step - loss: 1.1122 - acc: 0.6031 - val_loss: 1.3958 - val_acc: 0.5196\n",
      "Epoch 22/100\n",
      "50000/50000 [==============================] - 17s 340us/step - loss: 1.0941 - acc: 0.6108 - val_loss: 1.3916 - val_acc: 0.5187\n",
      "Epoch 23/100\n",
      "50000/50000 [==============================] - 12s 249us/step - loss: 1.0720 - acc: 0.6154 - val_loss: 1.3774 - val_acc: 0.5213\n",
      "Epoch 24/100\n",
      "50000/50000 [==============================] - 10s 201us/step - loss: 1.0525 - acc: 0.6239 - val_loss: 1.3802 - val_acc: 0.5258\n",
      "Epoch 25/100\n",
      "50000/50000 [==============================] - 10s 205us/step - loss: 1.0357 - acc: 0.6322 - val_loss: 1.3882 - val_acc: 0.5266\n",
      "Epoch 26/100\n",
      "50000/50000 [==============================] - 8s 162us/step - loss: 1.0099 - acc: 0.6390 - val_loss: 1.4324 - val_acc: 0.5143\n",
      "Epoch 27/100\n",
      "50000/50000 [==============================] - 8s 169us/step - loss: 1.0059 - acc: 0.6397 - val_loss: 1.4301 - val_acc: 0.5142\n",
      "Epoch 28/100\n",
      "50000/50000 [==============================] - 23s 451us/step - loss: 0.9818 - acc: 0.6487 - val_loss: 1.4876 - val_acc: 0.5054\n",
      "Epoch 29/100\n",
      "50000/50000 [==============================] - 18s 365us/step - loss: 0.9655 - acc: 0.6541 - val_loss: 1.4266 - val_acc: 0.5189\n",
      "Epoch 30/100\n",
      "50000/50000 [==============================] - 12s 235us/step - loss: 0.9327 - acc: 0.6675 - val_loss: 1.4478 - val_acc: 0.5222\n",
      "Epoch 31/100\n",
      "50000/50000 [==============================] - 12s 245us/step - loss: 0.9223 - acc: 0.6705 - val_loss: 1.4099 - val_acc: 0.5271\n",
      "Epoch 32/100\n",
      "50000/50000 [==============================] - 15s 292us/step - loss: 0.9094 - acc: 0.6766 - val_loss: 1.4366 - val_acc: 0.5201\n",
      "Epoch 33/100\n",
      "50000/50000 [==============================] - 10s 207us/step - loss: 0.8908 - acc: 0.6796 - val_loss: 1.4937 - val_acc: 0.5205\n",
      "Epoch 34/100\n",
      "50000/50000 [==============================] - 9s 174us/step - loss: 0.8756 - acc: 0.6848 - val_loss: 1.4765 - val_acc: 0.5264\n",
      "Epoch 35/100\n",
      "50000/50000 [==============================] - 10s 196us/step - loss: 0.8583 - acc: 0.6918 - val_loss: 1.4708 - val_acc: 0.5315\n",
      "Epoch 36/100\n",
      "50000/50000 [==============================] - 8s 154us/step - loss: 0.8374 - acc: 0.7016 - val_loss: 1.5801 - val_acc: 0.5057\n",
      "Epoch 37/100\n",
      "50000/50000 [==============================] - 16s 327us/step - loss: 0.8315 - acc: 0.7020 - val_loss: 1.5248 - val_acc: 0.5260\n",
      "Epoch 38/100\n",
      "50000/50000 [==============================] - 15s 291us/step - loss: 0.8229 - acc: 0.7053 - val_loss: 1.5184 - val_acc: 0.5303\n",
      "Epoch 39/100\n",
      "50000/50000 [==============================] - 10s 204us/step - loss: 0.7911 - acc: 0.7168 - val_loss: 1.5560 - val_acc: 0.5185\n",
      "Epoch 40/100\n",
      "50000/50000 [==============================] - 11s 229us/step - loss: 0.7797 - acc: 0.7218 - val_loss: 1.5796 - val_acc: 0.5210\n",
      "Epoch 41/100\n",
      "50000/50000 [==============================] - 10s 207us/step - loss: 0.7553 - acc: 0.7315 - val_loss: 1.5669 - val_acc: 0.5239\n",
      "Epoch 42/100\n",
      "50000/50000 [==============================] - 8s 163us/step - loss: 0.7426 - acc: 0.7329 - val_loss: 1.6304 - val_acc: 0.5091\n",
      "Epoch 43/100\n",
      "50000/50000 [==============================] - 11s 220us/step - loss: 0.7292 - acc: 0.7399 - val_loss: 1.6410 - val_acc: 0.5193\n",
      "Epoch 44/100\n",
      "50000/50000 [==============================] - 13s 257us/step - loss: 0.7213 - acc: 0.7422 - val_loss: 1.6687 - val_acc: 0.5131\n",
      "Epoch 45/100\n",
      "50000/50000 [==============================] - 8s 155us/step - loss: 0.7036 - acc: 0.7493 - val_loss: 1.7052 - val_acc: 0.5090\n",
      "Epoch 46/100\n",
      "50000/50000 [==============================] - 10s 194us/step - loss: 0.7007 - acc: 0.7490 - val_loss: 1.7291 - val_acc: 0.5097\n",
      "Epoch 47/100\n",
      "50000/50000 [==============================] - 12s 243us/step - loss: 0.6727 - acc: 0.7596 - val_loss: 1.7426 - val_acc: 0.5129\n",
      "Epoch 48/100\n",
      "50000/50000 [==============================] - 18s 354us/step - loss: 0.6617 - acc: 0.7618 - val_loss: 1.7675 - val_acc: 0.5178\n",
      "Epoch 49/100\n",
      "50000/50000 [==============================] - 20s 405us/step - loss: 0.6514 - acc: 0.7659 - val_loss: 1.7624 - val_acc: 0.5098\n",
      "Epoch 50/100\n",
      "50000/50000 [==============================] - 14s 277us/step - loss: 0.6386 - acc: 0.7723 - val_loss: 1.7867 - val_acc: 0.5152\n",
      "Epoch 51/100\n",
      "50000/50000 [==============================] - 42s 842us/step - loss: 0.6204 - acc: 0.7772 - val_loss: 1.8250 - val_acc: 0.5102\n",
      "Epoch 52/100\n",
      "50000/50000 [==============================] - 20s 394us/step - loss: 0.6137 - acc: 0.7802 - val_loss: 1.8825 - val_acc: 0.5128\n",
      "Epoch 53/100\n",
      "50000/50000 [==============================] - 12s 247us/step - loss: 0.5957 - acc: 0.7880 - val_loss: 1.8498 - val_acc: 0.5100\n",
      "Epoch 54/100\n",
      "50000/50000 [==============================] - 10s 203us/step - loss: 0.5771 - acc: 0.7953 - val_loss: 1.9028 - val_acc: 0.5076\n",
      "Epoch 55/100\n",
      "50000/50000 [==============================] - 20s 406us/step - loss: 0.5713 - acc: 0.7948 - val_loss: 1.8981 - val_acc: 0.5062\n",
      "Epoch 56/100\n",
      "50000/50000 [==============================] - 27s 542us/step - loss: 0.5695 - acc: 0.7961 - val_loss: 1.9579 - val_acc: 0.5104\n",
      "Epoch 57/100\n",
      "50000/50000 [==============================] - 30s 606us/step - loss: 0.5391 - acc: 0.8090 - val_loss: 1.9833 - val_acc: 0.5053\n",
      "Epoch 58/100\n",
      "50000/50000 [==============================] - 16s 325us/step - loss: 0.5377 - acc: 0.8079 - val_loss: 1.9652 - val_acc: 0.5044\n"
     ]
    },
    {
     "name": "stdout",
     "output_type": "stream",
     "text": [
      "Epoch 59/100\n",
      "50000/50000 [==============================] - 11s 216us/step - loss: 0.5303 - acc: 0.8099 - val_loss: 2.0751 - val_acc: 0.5071\n",
      "Epoch 60/100\n",
      "50000/50000 [==============================] - 10s 206us/step - loss: 0.5378 - acc: 0.8086 - val_loss: 2.0600 - val_acc: 0.5128\n",
      "Epoch 61/100\n",
      "50000/50000 [==============================] - 10s 204us/step - loss: 0.5168 - acc: 0.8130 - val_loss: 2.0921 - val_acc: 0.5047\n",
      "Epoch 62/100\n",
      "50000/50000 [==============================] - 10s 209us/step - loss: 0.4906 - acc: 0.8260 - val_loss: 2.1429 - val_acc: 0.5080\n",
      "Epoch 63/100\n",
      "50000/50000 [==============================] - 10s 190us/step - loss: 0.4891 - acc: 0.8267 - val_loss: 2.1231 - val_acc: 0.5045\n",
      "Epoch 64/100\n",
      "50000/50000 [==============================] - 12s 233us/step - loss: 0.5048 - acc: 0.8197 - val_loss: 2.0835 - val_acc: 0.5138\n",
      "Epoch 65/100\n",
      "50000/50000 [==============================] - 19s 373us/step - loss: 0.4765 - acc: 0.8305 - val_loss: 2.1794 - val_acc: 0.5043\n",
      "Epoch 66/100\n",
      "50000/50000 [==============================] - 18s 368us/step - loss: 0.4632 - acc: 0.8352 - val_loss: 2.2245 - val_acc: 0.5147\n",
      "Epoch 67/100\n",
      "50000/50000 [==============================] - 13s 257us/step - loss: 0.4582 - acc: 0.8366 - val_loss: 2.2591 - val_acc: 0.5035\n",
      "Epoch 68/100\n",
      "50000/50000 [==============================] - 14s 279us/step - loss: 0.4583 - acc: 0.8352 - val_loss: 2.3386 - val_acc: 0.5040\n",
      "Epoch 69/100\n",
      "50000/50000 [==============================] - 16s 324us/step - loss: 0.4636 - acc: 0.8306 - val_loss: 2.3148 - val_acc: 0.5026\n",
      "Epoch 70/100\n",
      "50000/50000 [==============================] - 10s 209us/step - loss: 0.4450 - acc: 0.8389 - val_loss: 2.2837 - val_acc: 0.5097\n",
      "Epoch 71/100\n",
      "50000/50000 [==============================] - 11s 217us/step - loss: 0.4215 - acc: 0.8494 - val_loss: 2.3988 - val_acc: 0.5036\n",
      "Epoch 72/100\n",
      "50000/50000 [==============================] - 11s 223us/step - loss: 0.4288 - acc: 0.8474 - val_loss: 2.3627 - val_acc: 0.5067\n",
      "Epoch 73/100\n",
      "50000/50000 [==============================] - 11s 212us/step - loss: 0.4107 - acc: 0.8526 - val_loss: 2.3753 - val_acc: 0.5082\n",
      "Epoch 74/100\n",
      "50000/50000 [==============================] - 10s 205us/step - loss: 0.4063 - acc: 0.8553 - val_loss: 2.4534 - val_acc: 0.5115\n",
      "Epoch 75/100\n",
      "50000/50000 [==============================] - 9s 172us/step - loss: 0.3999 - acc: 0.8584 - val_loss: 2.5043 - val_acc: 0.4969\n",
      "Epoch 76/100\n",
      "50000/50000 [==============================] - 16s 313us/step - loss: 0.3923 - acc: 0.8593 - val_loss: 2.4997 - val_acc: 0.5053\n",
      "Epoch 77/100\n",
      "50000/50000 [==============================] - 13s 253us/step - loss: 0.3894 - acc: 0.8606 - val_loss: 2.5756 - val_acc: 0.5003\n",
      "Epoch 78/100\n",
      "50000/50000 [==============================] - 8s 162us/step - loss: 0.3716 - acc: 0.8674 - val_loss: 2.5571 - val_acc: 0.5082\n",
      "Epoch 79/100\n",
      "50000/50000 [==============================] - 13s 268us/step - loss: 0.3858 - acc: 0.8631 - val_loss: 2.4919 - val_acc: 0.5026\n",
      "Epoch 80/100\n",
      "50000/50000 [==============================] - 10s 204us/step - loss: 0.3745 - acc: 0.8659 - val_loss: 2.5236 - val_acc: 0.5005\n",
      "Epoch 81/100\n",
      "50000/50000 [==============================] - 8s 165us/step - loss: 0.3685 - acc: 0.8687 - val_loss: 2.5643 - val_acc: 0.5026\n",
      "Epoch 82/100\n",
      "50000/50000 [==============================] - 9s 171us/step - loss: 0.3677 - acc: 0.8666 - val_loss: 2.7214 - val_acc: 0.4943\n",
      "Epoch 83/100\n",
      "50000/50000 [==============================] - 8s 159us/step - loss: 0.3576 - acc: 0.8711 - val_loss: 2.7456 - val_acc: 0.5023\n",
      "Epoch 84/100\n",
      "50000/50000 [==============================] - 8s 165us/step - loss: 0.3557 - acc: 0.8715 - val_loss: 2.6200 - val_acc: 0.5066\n",
      "Epoch 85/100\n",
      "50000/50000 [==============================] - 8s 164us/step - loss: 0.3380 - acc: 0.8800 - val_loss: 2.7257 - val_acc: 0.5016\n",
      "Epoch 86/100\n",
      "50000/50000 [==============================] - 8s 154us/step - loss: 0.3515 - acc: 0.8741 - val_loss: 2.7115 - val_acc: 0.5073\n",
      "Epoch 87/100\n",
      "50000/50000 [==============================] - 8s 153us/step - loss: 0.3407 - acc: 0.8785 - val_loss: 2.7582 - val_acc: 0.5021\n",
      "Epoch 88/100\n",
      "50000/50000 [==============================] - 8s 155us/step - loss: 0.3225 - acc: 0.8841 - val_loss: 2.7759 - val_acc: 0.5015\n",
      "Epoch 89/100\n",
      "50000/50000 [==============================] - 7s 147us/step - loss: 0.3109 - acc: 0.8877 - val_loss: 2.7951 - val_acc: 0.5002\n",
      "Epoch 90/100\n",
      "50000/50000 [==============================] - 10s 195us/step - loss: 0.3097 - acc: 0.8898 - val_loss: 2.9316 - val_acc: 0.4935\n",
      "Epoch 91/100\n",
      "50000/50000 [==============================] - 8s 165us/step - loss: 0.3452 - acc: 0.8763 - val_loss: 2.8377 - val_acc: 0.5062\n",
      "Epoch 92/100\n",
      "50000/50000 [==============================] - 8s 151us/step - loss: 0.3100 - acc: 0.8901 - val_loss: 2.9003 - val_acc: 0.4947\n",
      "Epoch 93/100\n",
      "50000/50000 [==============================] - 8s 156us/step - loss: 0.2892 - acc: 0.8980 - val_loss: 2.9308 - val_acc: 0.5001\n",
      "Epoch 94/100\n",
      "50000/50000 [==============================] - 7s 147us/step - loss: 0.2896 - acc: 0.8965 - val_loss: 2.9773 - val_acc: 0.4949\n",
      "Epoch 95/100\n",
      "50000/50000 [==============================] - 7s 149us/step - loss: 0.3072 - acc: 0.8899 - val_loss: 2.9971 - val_acc: 0.4999\n",
      "Epoch 96/100\n",
      "50000/50000 [==============================] - 7s 145us/step - loss: 0.2956 - acc: 0.8942 - val_loss: 3.0164 - val_acc: 0.4956\n",
      "Epoch 97/100\n",
      "50000/50000 [==============================] - 7s 149us/step - loss: 0.2886 - acc: 0.8956 - val_loss: 3.0875 - val_acc: 0.4963\n",
      "Epoch 98/100\n",
      "50000/50000 [==============================] - 7s 150us/step - loss: 0.3038 - acc: 0.8909 - val_loss: 3.0930 - val_acc: 0.4939\n",
      "Epoch 99/100\n",
      "50000/50000 [==============================] - 8s 150us/step - loss: 0.3064 - acc: 0.8888 - val_loss: 2.9997 - val_acc: 0.5081\n",
      "Epoch 100/100\n",
      "50000/50000 [==============================] - 8s 154us/step - loss: 0.2651 - acc: 0.9062 - val_loss: 3.2162 - val_acc: 0.4988\n"
     ]
    },
    {
     "data": {
      "text/plain": [
       "<keras.callbacks.History at 0x14315ff60>"
      ]
     },
     "execution_count": 11,
     "metadata": {},
     "output_type": "execute_result"
    }
   ],
   "source": [
    "model.fit(x_train, y_train, \n",
    "          epochs=EPOCHS, \n",
    "          batch_size=BATCH_SIZE, \n",
    "          validation_data=(x_test, y_test), \n",
    "          shuffle=True)"
   ]
  },
  {
   "cell_type": "code",
   "execution_count": 13,
   "metadata": {},
   "outputs": [
    {
     "data": {
      "image/png": "[encoded data removed]",
      "text/plain": [
       "<Figure size 432x288 with 1 Axes>"
      ]
     },
     "metadata": {
      "needs_background": "light"
     },
     "output_type": "display_data"
    },
    {
     "data": {
      "image/png": "[encoded data removed]",
      "text/plain": [
       "<Figure size 432x288 with 1 Axes>"
      ]
     },
     "metadata": {
      "needs_background": "light"
     },
     "output_type": "display_data"
    }
   ],
   "source": [
    "# 訓練模型並檢視驗證集的結果\n",
    "import matplotlib.pyplot as plt\n",
    "\n",
    "train_loss = model.history.history[\"loss\"]\n",
    "valid_loss = model.history.history[\"val_loss\"]\n",
    "\n",
    "train_acc = model.history.history[\"acc\"]\n",
    "valid_acc = model.history.history[\"val_acc\"]\n",
    "\n",
    "plt.plot(range(len(train_loss)), train_loss, label=\"train loss\")\n",
    "plt.plot(range(len(valid_loss)), valid_loss, label=\"valid loss\")\n",
    "plt.legend()\n",
    "plt.title(\"Loss\")\n",
    "plt.show()\n",
    "\n",
    "plt.plot(range(len(train_acc)), train_acc, label=\"train accuracy\")\n",
    "plt.plot(range(len(valid_acc)), valid_acc, label=\"valid accuracy\")\n",
    "plt.legend()\n",
    "plt.title(\"Accuracy\")\n",
    "plt.show()"
   ]
  },
  {
   "cell_type": "code",
   "execution_count": null,
   "metadata": {},
   "outputs": [],
   "source": []
  },
  {
   "cell_type": "markdown",
   "metadata": {},
   "source": [
    "## 作業\n",
    "\n",
    "1. 請嘗試將 preproc_x 替換成以每筆資料的 min/max 進行標準化至 -1 ~ 1 間，再進行訓練\n",
    "\n",
    "\n",
    "2. 請嘗試將 mlp 疊更深 (e.g 5~10 層)，進行訓練後觀察 learning curve 的走勢\n",
    "\n",
    "\n",
    "3. (optional) 請改用 GPU 進行訓練 (如果你有 GPU 的話)，比較使用 CPU 與 GPU 的訓練速度"
   ]
  },
  {
   "cell_type": "code",
   "execution_count": 1,
   "metadata": {},
   "outputs": [
    {
     "data": {
      "text/plain": [
       "'\\nYour code here (optional)\\n確認硬體資源\\n'"
      ]
     },
     "execution_count": 1,
     "metadata": {},
     "output_type": "execute_result"
    }
   ],
   "source": [
    "\"\"\"\n",
    "Your code here (optional)\n",
    "確認硬體資源\n",
    "\"\"\"\n",
    "## 確認硬體資源 (如果你是在 Linux, 若是在 Windows, 請參考 https://blog.csdn.net/idwtwt/article/details/78017565)\n",
    "# !nvidia-smi"
   ]
  },
  {
   "cell_type": "code",
   "execution_count": 2,
   "metadata": {},
   "outputs": [
    {
     "name": "stderr",
     "output_type": "stream",
     "text": [
      "Using TensorFlow backend.\n"
     ]
    }
   ],
   "source": [
    "import os\n",
    "import keras\n",
    "\n",
    "# 請嘗試設定 GPU：os.environ\n",
    "# 3. 請改用 GPU 進行訓練 (如果你有 GPU 的話)，比較使用 CPU 與 GPU 的訓練速度\n",
    "os.environ[\"CUDA_VISIBLE_DEVICES\"] = \"0\""
   ]
  },
  {
   "cell_type": "code",
   "execution_count": 3,
   "metadata": {},
   "outputs": [],
   "source": [
    "train, test = keras.datasets.cifar10.load_data()"
   ]
  },
  {
   "cell_type": "markdown",
   "metadata": {},
   "source": [
    "With: $ 𝑥′ = (𝑥 − min 𝑥) / (max 𝑥 − min 𝑥 ) $ you normalize your feature 𝑥 in [0,1].\n",
    "\n",
    "To normalize in [−1,1] you can use:\n",
    "\n",
    "$ 𝑥″ = 2 * [(𝑥 − min 𝑥) / (max 𝑥 − min 𝑥)] −1 $"
   ]
  },
  {
   "cell_type": "code",
   "execution_count": 4,
   "metadata": {},
   "outputs": [],
   "source": [
    "## 資料前處理\n",
    "\"\"\"\n",
    "Your code here\n",
    "\"\"\"\n",
    "## 資料前處理\n",
    "def preproc_x(x, flatten=True):\n",
    "    x = x / 255. # standardize\n",
    "#     x = (2 * (x-min(x)) / (max(x) - min(x))) - 1 # normalize to [-1, 1]\n",
    "    if flatten:\n",
    "        x = x.reshape((len(x), -1))\n",
    "    return x\n",
    "\n",
    "def preproc_y(y, num_classes=10):\n",
    "    if y.shape[-1] == 1:\n",
    "        y = keras.utils.to_categorical(y, num_classes)\n",
    "    return y  "
   ]
  },
  {
   "cell_type": "code",
   "execution_count": 5,
   "metadata": {
    "scrolled": true
   },
   "outputs": [],
   "source": [
    "x_train, y_train = train\n",
    "x_test, y_test = test\n",
    "\n",
    "# Preproc the inputs\n",
    "x_train = preproc_x(x_train)\n",
    "x_test = preproc_x(x_test)\n",
    "\n",
    "# Preprc the outputs\n",
    "y_train = preproc_y(y_train)\n",
    "y_test = preproc_y(y_test)"
   ]
  },
  {
   "cell_type": "code",
   "execution_count": 6,
   "metadata": {},
   "outputs": [],
   "source": [
    "# from sklearn import preprocessing\n",
    "# max_abs_scaler = preprocessing.MaxAbsScaler()\n",
    "\n",
    "# x_train = max_abs_scaler.fit_transform(x_train)\n",
    "# x_test = max_abs_scaler.transform(x_test)"
   ]
  },
  {
   "cell_type": "code",
   "execution_count": 7,
   "metadata": {},
   "outputs": [
    {
     "data": {
      "text/plain": [
       "0.0"
      ]
     },
     "metadata": {},
     "output_type": "display_data"
    },
    {
     "data": {
      "text/plain": [
       "1.0"
      ]
     },
     "metadata": {},
     "output_type": "display_data"
    }
   ],
   "source": [
    "display(x_test.min())\n",
    "display(x_test.max())"
   ]
  },
  {
   "cell_type": "code",
   "execution_count": 9,
   "metadata": {},
   "outputs": [
    {
     "name": "stderr",
     "output_type": "stream",
     "text": [
      "WARNING: Logging before flag parsing goes to stderr.\n",
      "W0720 16:32:11.369549 4452021696 deprecation_wrapper.py:119] From /Users/johnsonhuang/anaconda3/envs/tensorflow/lib/python3.6/site-packages/keras/backend/tensorflow_backend.py:74: The name tf.get_default_graph is deprecated. Please use tf.compat.v1.get_default_graph instead.\n",
      "\n",
      "W0720 16:32:11.445226 4452021696 deprecation_wrapper.py:119] From /Users/johnsonhuang/anaconda3/envs/tensorflow/lib/python3.6/site-packages/keras/backend/tensorflow_backend.py:517: The name tf.placeholder is deprecated. Please use tf.compat.v1.placeholder instead.\n",
      "\n",
      "W0720 16:32:11.470918 4452021696 deprecation_wrapper.py:119] From /Users/johnsonhuang/anaconda3/envs/tensorflow/lib/python3.6/site-packages/keras/backend/tensorflow_backend.py:4138: The name tf.random_uniform is deprecated. Please use tf.random.uniform instead.\n",
      "\n"
     ]
    },
    {
     "name": "stdout",
     "output_type": "stream",
     "text": [
      "_________________________________________________________________\n",
      "Layer (type)                 Output Shape              Param #   \n",
      "=================================================================\n",
      "input_1 (InputLayer)         (None, 3072)              0         \n",
      "_________________________________________________________________\n",
      "hidden_layer1 (Dense)        (None, 512)               1573376   \n",
      "_________________________________________________________________\n",
      "hidden_layer2 (Dense)        (None, 256)               131328    \n",
      "_________________________________________________________________\n",
      "hidden_layer3 (Dense)        (None, 128)               32896     \n",
      "_________________________________________________________________\n",
      "hidden_layer4 (Dense)        (None, 64)                8256      \n",
      "_________________________________________________________________\n",
      "hidden_layer5 (Dense)        (None, 32)                2080      \n",
      "_________________________________________________________________\n",
      "hidden_layer6 (Dense)        (None, 16)                528       \n",
      "_________________________________________________________________\n",
      "output (Dense)               (None, 10)                170       \n",
      "=================================================================\n",
      "Total params: 1,748,634\n",
      "Trainable params: 1,748,634\n",
      "Non-trainable params: 0\n",
      "_________________________________________________________________\n"
     ]
    }
   ],
   "source": [
    "\"\"\"Code Here\n",
    "建立你的神經網路\n",
    "\"\"\"\n",
    "                                       # 透過增加 num_neurons 的數量，來把層數加得更深\n",
    "                                       # 2. 請嘗試將 mlp 疊更深 (e.g 5~10 層)，進行訓練後觀察 learning curve 的走勢\n",
    "def build_mlp(input_shape, output_units=10, num_neurons=[512, 256, 128, 64, 32, 16]):\n",
    "    input_layer = keras.layers.Input(input_shape)\n",
    "    \n",
    "    for i, n_units in enumerate(num_neurons):\n",
    "        if i == 0:\n",
    "            x = keras.layers.Dense(units=n_units, activation=\"relu\", name=\"hidden_layer\"+str(i+1))(input_layer)\n",
    "        else:\n",
    "            x = keras.layers.Dense(units=n_units, activation=\"relu\", name=\"hidden_layer\"+str(i+1))(x)\n",
    "    \n",
    "    out = keras.layers.Dense(units=output_units, activation=\"softmax\", name=\"output\")(x)\n",
    "    \n",
    "    model = keras.models.Model(inputs=[input_layer], outputs=[out])\n",
    "    return model\n",
    "\n",
    "model = build_mlp(input_shape=x_train.shape[1:])\n",
    "model.summary()"
   ]
  },
  {
   "cell_type": "code",
   "execution_count": 10,
   "metadata": {},
   "outputs": [],
   "source": [
    "## 超參數設定\n",
    "LEARNING_RATE = 0.001\n",
    "EPOCHS = 100\n",
    "BATCH_SIZE = 256"
   ]
  },
  {
   "cell_type": "code",
   "execution_count": 11,
   "metadata": {},
   "outputs": [
    {
     "name": "stderr",
     "output_type": "stream",
     "text": [
      "W0720 16:32:38.124404 4452021696 deprecation_wrapper.py:119] From /Users/johnsonhuang/anaconda3/envs/tensorflow/lib/python3.6/site-packages/keras/optimizers.py:790: The name tf.train.Optimizer is deprecated. Please use tf.compat.v1.train.Optimizer instead.\n",
      "\n",
      "W0720 16:32:38.148645 4452021696 deprecation_wrapper.py:119] From /Users/johnsonhuang/anaconda3/envs/tensorflow/lib/python3.6/site-packages/keras/backend/tensorflow_backend.py:3295: The name tf.log is deprecated. Please use tf.math.log instead.\n",
      "\n"
     ]
    }
   ],
   "source": [
    "optimizer = keras.optimizers.Adam(lr=LEARNING_RATE)\n",
    "model.compile(loss=\"categorical_crossentropy\", metrics=[\"accuracy\"], optimizer=optimizer)"
   ]
  },
  {
   "cell_type": "code",
   "execution_count": 12,
   "metadata": {},
   "outputs": [
    {
     "name": "stderr",
     "output_type": "stream",
     "text": [
      "W0720 16:32:47.083976 4452021696 deprecation.py:323] From /Users/johnsonhuang/anaconda3/envs/tensorflow/lib/python3.6/site-packages/tensorflow/python/ops/math_grad.py:1250: add_dispatch_support.<locals>.wrapper (from tensorflow.python.ops.array_ops) is deprecated and will be removed in a future version.\n",
      "Instructions for updating:\n",
      "Use tf.where in 2.0, which has the same broadcast rule as np.where\n",
      "W0720 16:32:47.182736 4452021696 deprecation_wrapper.py:119] From /Users/johnsonhuang/anaconda3/envs/tensorflow/lib/python3.6/site-packages/keras/backend/tensorflow_backend.py:986: The name tf.assign_add is deprecated. Please use tf.compat.v1.assign_add instead.\n",
      "\n"
     ]
    },
    {
     "name": "stdout",
     "output_type": "stream",
     "text": [
      "Train on 50000 samples, validate on 10000 samples\n",
      "Epoch 1/100\n",
      "50000/50000 [==============================] - 23s 462us/step - loss: 2.1461 - acc: 0.1852 - val_loss: 2.0325 - val_acc: 0.2468\n",
      "Epoch 2/100\n",
      "50000/50000 [==============================] - 12s 230us/step - loss: 1.8984 - acc: 0.2959 - val_loss: 1.7929 - val_acc: 0.3485\n",
      "Epoch 3/100\n",
      "50000/50000 [==============================] - 10s 206us/step - loss: 1.7611 - acc: 0.3637 - val_loss: 1.7207 - val_acc: 0.3760\n",
      "Epoch 4/100\n",
      "50000/50000 [==============================] - 25s 497us/step - loss: 1.6648 - acc: 0.3986 - val_loss: 1.6251 - val_acc: 0.4132\n",
      "Epoch 5/100\n",
      "50000/50000 [==============================] - 26s 519us/step - loss: 1.6035 - acc: 0.4227 - val_loss: 1.6049 - val_acc: 0.4224\n",
      "Epoch 6/100\n",
      "50000/50000 [==============================] - 14s 280us/step - loss: 1.5572 - acc: 0.4399 - val_loss: 1.5868 - val_acc: 0.4224\n",
      "Epoch 7/100\n",
      "50000/50000 [==============================] - 9s 175us/step - loss: 1.5271 - acc: 0.4510 - val_loss: 1.5081 - val_acc: 0.4638\n",
      "Epoch 8/100\n",
      "50000/50000 [==============================] - 9s 170us/step - loss: 1.4898 - acc: 0.4662 - val_loss: 1.4900 - val_acc: 0.4689\n",
      "Epoch 9/100\n",
      "50000/50000 [==============================] - 8s 162us/step - loss: 1.4705 - acc: 0.4721 - val_loss: 1.4760 - val_acc: 0.4732\n",
      "Epoch 10/100\n",
      "50000/50000 [==============================] - 8s 160us/step - loss: 1.4419 - acc: 0.4806 - val_loss: 1.4739 - val_acc: 0.4774\n",
      "Epoch 11/100\n",
      "50000/50000 [==============================] - 9s 173us/step - loss: 1.4146 - acc: 0.4929 - val_loss: 1.5881 - val_acc: 0.4419\n",
      "Epoch 12/100\n",
      "50000/50000 [==============================] - 8s 157us/step - loss: 1.3943 - acc: 0.4993 - val_loss: 1.4544 - val_acc: 0.4818\n",
      "Epoch 13/100\n",
      "50000/50000 [==============================] - 8s 163us/step - loss: 1.3668 - acc: 0.5084 - val_loss: 1.4674 - val_acc: 0.4795\n",
      "Epoch 14/100\n",
      "50000/50000 [==============================] - 8s 157us/step - loss: 1.3494 - acc: 0.5187 - val_loss: 1.4410 - val_acc: 0.4863\n",
      "Epoch 15/100\n",
      "50000/50000 [==============================] - 8s 158us/step - loss: 1.3208 - acc: 0.5265 - val_loss: 1.4271 - val_acc: 0.4999\n",
      "Epoch 16/100\n",
      "50000/50000 [==============================] - 8s 151us/step - loss: 1.3022 - acc: 0.5343 - val_loss: 1.5321 - val_acc: 0.4576\n",
      "Epoch 17/100\n",
      "50000/50000 [==============================] - 16s 311us/step - loss: 1.2859 - acc: 0.5383 - val_loss: 1.4122 - val_acc: 0.4966\n",
      "Epoch 18/100\n",
      "50000/50000 [==============================] - 15s 303us/step - loss: 1.2563 - acc: 0.5467 - val_loss: 1.4653 - val_acc: 0.4905\n",
      "Epoch 19/100\n",
      "50000/50000 [==============================] - 9s 181us/step - loss: 1.2409 - acc: 0.5561 - val_loss: 1.4077 - val_acc: 0.5043\n",
      "Epoch 20/100\n",
      "50000/50000 [==============================] - 9s 178us/step - loss: 1.2156 - acc: 0.5637 - val_loss: 1.4578 - val_acc: 0.4882\n",
      "Epoch 21/100\n",
      "50000/50000 [==============================] - 8s 153us/step - loss: 1.2078 - acc: 0.5669 - val_loss: 1.3988 - val_acc: 0.5049\n",
      "Epoch 22/100\n",
      "50000/50000 [==============================] - 8s 154us/step - loss: 1.1744 - acc: 0.5787 - val_loss: 1.4364 - val_acc: 0.5065\n",
      "Epoch 23/100\n",
      "50000/50000 [==============================] - 8s 157us/step - loss: 1.1591 - acc: 0.5821 - val_loss: 1.4682 - val_acc: 0.4926\n",
      "Epoch 24/100\n",
      "50000/50000 [==============================] - 8s 161us/step - loss: 1.1447 - acc: 0.5907 - val_loss: 1.4125 - val_acc: 0.5072\n",
      "Epoch 25/100\n",
      "50000/50000 [==============================] - 8s 154us/step - loss: 1.1253 - acc: 0.5962 - val_loss: 1.4475 - val_acc: 0.5029\n",
      "Epoch 26/100\n",
      "50000/50000 [==============================] - 7s 149us/step - loss: 1.1173 - acc: 0.5981 - val_loss: 1.4300 - val_acc: 0.5089\n",
      "Epoch 27/100\n",
      "50000/50000 [==============================] - 8s 153us/step - loss: 1.0950 - acc: 0.6061 - val_loss: 1.4253 - val_acc: 0.5115\n",
      "Epoch 28/100\n",
      "50000/50000 [==============================] - 8s 159us/step - loss: 1.0785 - acc: 0.6112 - val_loss: 1.4493 - val_acc: 0.5092\n",
      "Epoch 29/100\n",
      "50000/50000 [==============================] - 7s 148us/step - loss: 1.0524 - acc: 0.6204 - val_loss: 1.4797 - val_acc: 0.5032\n",
      "Epoch 30/100\n",
      "50000/50000 [==============================] - 20s 405us/step - loss: 1.0469 - acc: 0.6226 - val_loss: 1.4729 - val_acc: 0.5092\n",
      "Epoch 31/100\n",
      "50000/50000 [==============================] - 13s 256us/step - loss: 1.0212 - acc: 0.6339 - val_loss: 1.4877 - val_acc: 0.5066\n",
      "Epoch 32/100\n",
      "50000/50000 [==============================] - 12s 246us/step - loss: 1.0074 - acc: 0.6352 - val_loss: 1.4688 - val_acc: 0.5189\n",
      "Epoch 33/100\n",
      "50000/50000 [==============================] - 10s 200us/step - loss: 0.9931 - acc: 0.6398 - val_loss: 1.5961 - val_acc: 0.4961\n",
      "Epoch 34/100\n",
      "50000/50000 [==============================] - 10s 197us/step - loss: 0.9708 - acc: 0.6483 - val_loss: 1.5362 - val_acc: 0.5038\n",
      "Epoch 35/100\n",
      "50000/50000 [==============================] - 10s 199us/step - loss: 0.9577 - acc: 0.6540 - val_loss: 1.5165 - val_acc: 0.5011\n",
      "Epoch 36/100\n",
      "50000/50000 [==============================] - 11s 215us/step - loss: 0.9317 - acc: 0.6623 - val_loss: 1.5421 - val_acc: 0.5088\n",
      "Epoch 37/100\n",
      "50000/50000 [==============================] - 11s 212us/step - loss: 0.9294 - acc: 0.6622 - val_loss: 1.5161 - val_acc: 0.5083\n",
      "Epoch 38/100\n",
      "50000/50000 [==============================] - 13s 255us/step - loss: 0.9041 - acc: 0.6716 - val_loss: 1.5503 - val_acc: 0.5087\n",
      "Epoch 39/100\n",
      "50000/50000 [==============================] - 11s 217us/step - loss: 0.8879 - acc: 0.6767 - val_loss: 1.5746 - val_acc: 0.5080\n",
      "Epoch 40/100\n",
      "50000/50000 [==============================] - 12s 238us/step - loss: 0.8698 - acc: 0.6844 - val_loss: 1.5793 - val_acc: 0.5068\n",
      "Epoch 41/100\n",
      "50000/50000 [==============================] - 13s 260us/step - loss: 0.8598 - acc: 0.6870 - val_loss: 1.6116 - val_acc: 0.5071\n",
      "Epoch 42/100\n",
      "50000/50000 [==============================] - 11s 228us/step - loss: 0.8481 - acc: 0.6898 - val_loss: 1.6244 - val_acc: 0.5079\n",
      "Epoch 43/100\n",
      "50000/50000 [==============================] - 10s 204us/step - loss: 0.8404 - acc: 0.6954 - val_loss: 1.6201 - val_acc: 0.5021\n",
      "Epoch 44/100\n",
      "50000/50000 [==============================] - 13s 260us/step - loss: 0.8248 - acc: 0.6989 - val_loss: 1.7353 - val_acc: 0.4944\n",
      "Epoch 45/100\n",
      "50000/50000 [==============================] - 15s 303us/step - loss: 0.8193 - acc: 0.7006 - val_loss: 1.6727 - val_acc: 0.5110\n",
      "Epoch 46/100\n",
      "50000/50000 [==============================] - 12s 244us/step - loss: 0.7957 - acc: 0.7091 - val_loss: 1.6721 - val_acc: 0.5115\n",
      "Epoch 47/100\n",
      "50000/50000 [==============================] - 8s 165us/step - loss: 0.7761 - acc: 0.7173 - val_loss: 1.6996 - val_acc: 0.5143\n",
      "Epoch 48/100\n",
      "50000/50000 [==============================] - 9s 189us/step - loss: 0.7661 - acc: 0.7215 - val_loss: 1.7120 - val_acc: 0.5051\n",
      "Epoch 49/100\n",
      "50000/50000 [==============================] - 10s 203us/step - loss: 0.7496 - acc: 0.7269 - val_loss: 1.7729 - val_acc: 0.5048\n",
      "Epoch 50/100\n",
      "50000/50000 [==============================] - 8s 159us/step - loss: 0.7321 - acc: 0.7333 - val_loss: 1.8549 - val_acc: 0.5016\n",
      "Epoch 51/100\n",
      "50000/50000 [==============================] - 8s 164us/step - loss: 0.7371 - acc: 0.7310 - val_loss: 1.8110 - val_acc: 0.4961\n",
      "Epoch 52/100\n",
      "50000/50000 [==============================] - 16s 318us/step - loss: 0.7155 - acc: 0.7377 - val_loss: 1.8259 - val_acc: 0.5066\n",
      "Epoch 53/100\n",
      "50000/50000 [==============================] - 14s 271us/step - loss: 0.7129 - acc: 0.7400 - val_loss: 1.7871 - val_acc: 0.5054\n",
      "Epoch 54/100\n",
      "50000/50000 [==============================] - 9s 181us/step - loss: 0.6947 - acc: 0.7475 - val_loss: 1.8490 - val_acc: 0.5085\n",
      "Epoch 55/100\n",
      " 1536/50000 [..............................] - ETA: 34s - loss: 0.6229 - acc: 0.7760"
     ]
    },
    {
     "name": "stderr",
     "output_type": "stream",
     "text": [
      "/Users/johnsonhuang/anaconda3/envs/tensorflow/lib/python3.6/site-packages/keras/callbacks.py:122: UserWarning: Method on_batch_end() is slow compared to the batch update (0.820130). Check your callbacks.\n",
      "  % delta_t_median)\n",
      "/Users/johnsonhuang/anaconda3/envs/tensorflow/lib/python3.6/site-packages/keras/callbacks.py:122: UserWarning: Method on_batch_end() is slow compared to the batch update (0.411170). Check your callbacks.\n",
      "  % delta_t_median)\n"
     ]
    },
    {
     "name": "stdout",
     "output_type": "stream",
     "text": [
      "50000/50000 [==============================] - 9s 175us/step - loss: 0.6803 - acc: 0.7527 - val_loss: 1.8919 - val_acc: 0.4963\n",
      "Epoch 56/100\n",
      "50000/50000 [==============================] - 8s 157us/step - loss: 0.6687 - acc: 0.7565 - val_loss: 1.8988 - val_acc: 0.5074\n",
      "Epoch 57/100\n",
      "50000/50000 [==============================] - 8s 157us/step - loss: 0.6661 - acc: 0.7557 - val_loss: 1.8765 - val_acc: 0.4986\n",
      "Epoch 58/100\n",
      "50000/50000 [==============================] - 9s 186us/step - loss: 0.6462 - acc: 0.7661 - val_loss: 1.9456 - val_acc: 0.5075\n",
      "Epoch 59/100\n",
      "50000/50000 [==============================] - 8s 161us/step - loss: 0.6311 - acc: 0.7697 - val_loss: 1.9868 - val_acc: 0.4957\n",
      "Epoch 60/100\n",
      "50000/50000 [==============================] - 8s 162us/step - loss: 0.6386 - acc: 0.7671 - val_loss: 2.0239 - val_acc: 0.5009\n",
      "Epoch 61/100\n",
      "50000/50000 [==============================] - 8s 154us/step - loss: 0.6134 - acc: 0.7772 - val_loss: 1.9949 - val_acc: 0.5046\n",
      "Epoch 62/100\n",
      "50000/50000 [==============================] - 7s 148us/step - loss: 0.6079 - acc: 0.7798 - val_loss: 1.9746 - val_acc: 0.5064\n",
      "Epoch 63/100\n",
      "50000/50000 [==============================] - 8s 156us/step - loss: 0.5973 - acc: 0.7837 - val_loss: 2.0983 - val_acc: 0.4976\n",
      "Epoch 64/100\n",
      "50000/50000 [==============================] - 8s 158us/step - loss: 0.5939 - acc: 0.7851 - val_loss: 2.1051 - val_acc: 0.4940\n",
      "Epoch 65/100\n",
      "50000/50000 [==============================] - 8s 158us/step - loss: 0.5951 - acc: 0.7817 - val_loss: 2.0892 - val_acc: 0.4978\n",
      "Epoch 66/100\n",
      "50000/50000 [==============================] - 8s 157us/step - loss: 0.5800 - acc: 0.7891 - val_loss: 2.1497 - val_acc: 0.4998\n",
      "Epoch 67/100\n",
      "50000/50000 [==============================] - 8s 159us/step - loss: 0.5453 - acc: 0.8014 - val_loss: 2.2355 - val_acc: 0.4983\n",
      "Epoch 68/100\n",
      "50000/50000 [==============================] - 9s 177us/step - loss: 0.5742 - acc: 0.7886 - val_loss: 2.2286 - val_acc: 0.5000\n",
      "Epoch 69/100\n",
      "50000/50000 [==============================] - 8s 160us/step - loss: 0.5494 - acc: 0.7992 - val_loss: 2.1586 - val_acc: 0.4956\n",
      "Epoch 70/100\n",
      "50000/50000 [==============================] - 8s 155us/step - loss: 0.5464 - acc: 0.8006 - val_loss: 2.2096 - val_acc: 0.5022\n",
      "Epoch 71/100\n",
      "50000/50000 [==============================] - 8s 158us/step - loss: 0.5453 - acc: 0.7997 - val_loss: 2.2065 - val_acc: 0.4976\n",
      "Epoch 72/100\n",
      "50000/50000 [==============================] - 8s 156us/step - loss: 0.5369 - acc: 0.8050 - val_loss: 2.2904 - val_acc: 0.4986\n",
      "Epoch 73/100\n",
      "50000/50000 [==============================] - 8s 158us/step - loss: 0.5081 - acc: 0.8145 - val_loss: 2.3038 - val_acc: 0.4914\n",
      "Epoch 74/100\n",
      "50000/50000 [==============================] - 8s 158us/step - loss: 0.5152 - acc: 0.8122 - val_loss: 2.3027 - val_acc: 0.4980\n",
      "Epoch 75/100\n",
      "50000/50000 [==============================] - 12s 234us/step - loss: 0.5075 - acc: 0.8147 - val_loss: 2.3140 - val_acc: 0.4924\n",
      "Epoch 76/100\n",
      "50000/50000 [==============================] - 9s 189us/step - loss: 0.5028 - acc: 0.8179 - val_loss: 2.3304 - val_acc: 0.4957\n",
      "Epoch 77/100\n",
      "50000/50000 [==============================] - 8s 161us/step - loss: 0.4993 - acc: 0.8192 - val_loss: 2.3075 - val_acc: 0.4965\n",
      "Epoch 78/100\n",
      "50000/50000 [==============================] - 8s 161us/step - loss: 0.4931 - acc: 0.8210 - val_loss: 2.3850 - val_acc: 0.4916\n",
      "Epoch 79/100\n",
      "50000/50000 [==============================] - 8s 157us/step - loss: 0.5072 - acc: 0.8154 - val_loss: 2.3582 - val_acc: 0.4929\n",
      "Epoch 80/100\n",
      "50000/50000 [==============================] - 8s 163us/step - loss: 0.4680 - acc: 0.8301 - val_loss: 2.4086 - val_acc: 0.4948\n",
      "Epoch 81/100\n",
      "50000/50000 [==============================] - 8s 169us/step - loss: 0.4630 - acc: 0.8316 - val_loss: 2.5075 - val_acc: 0.4949\n",
      "Epoch 82/100\n",
      "50000/50000 [==============================] - 8s 162us/step - loss: 0.4443 - acc: 0.8383 - val_loss: 2.5188 - val_acc: 0.4989\n",
      "Epoch 83/100\n",
      "50000/50000 [==============================] - 9s 178us/step - loss: 0.4535 - acc: 0.8348 - val_loss: 2.5232 - val_acc: 0.4924\n",
      "Epoch 84/100\n",
      "50000/50000 [==============================] - 9s 179us/step - loss: 0.4532 - acc: 0.8335 - val_loss: 2.5851 - val_acc: 0.4851\n",
      "Epoch 85/100\n",
      "50000/50000 [==============================] - 8s 155us/step - loss: 0.4586 - acc: 0.8343 - val_loss: 2.5479 - val_acc: 0.4970\n",
      "Epoch 86/100\n",
      "50000/50000 [==============================] - 8s 165us/step - loss: 0.4550 - acc: 0.8352 - val_loss: 2.6072 - val_acc: 0.4880\n",
      "Epoch 87/100\n",
      "50000/50000 [==============================] - 9s 181us/step - loss: 0.4206 - acc: 0.8491 - val_loss: 2.6679 - val_acc: 0.4856\n",
      "Epoch 88/100\n",
      "50000/50000 [==============================] - 10s 200us/step - loss: 0.4123 - acc: 0.8504 - val_loss: 2.7677 - val_acc: 0.4866\n",
      "Epoch 89/100\n",
      "50000/50000 [==============================] - 8s 160us/step - loss: 0.4131 - acc: 0.8508 - val_loss: 2.7532 - val_acc: 0.4873\n",
      "Epoch 90/100\n",
      "50000/50000 [==============================] - 8s 167us/step - loss: 0.4362 - acc: 0.8428 - val_loss: 2.6057 - val_acc: 0.4887\n",
      "Epoch 91/100\n",
      "50000/50000 [==============================] - 8s 162us/step - loss: 0.4092 - acc: 0.8523 - val_loss: 2.6472 - val_acc: 0.4943\n",
      "Epoch 92/100\n",
      "50000/50000 [==============================] - 8s 159us/step - loss: 0.4165 - acc: 0.8495 - val_loss: 2.6883 - val_acc: 0.4920\n",
      "Epoch 93/100\n",
      "50000/50000 [==============================] - 8s 161us/step - loss: 0.4391 - acc: 0.8413 - val_loss: 2.6510 - val_acc: 0.4932\n",
      "Epoch 94/100\n",
      "50000/50000 [==============================] - 8s 165us/step - loss: 0.4088 - acc: 0.8517 - val_loss: 2.7619 - val_acc: 0.4952\n",
      "Epoch 95/100\n",
      "50000/50000 [==============================] - 8s 155us/step - loss: 0.3744 - acc: 0.8653 - val_loss: 2.8182 - val_acc: 0.4928\n",
      "Epoch 96/100\n",
      "50000/50000 [==============================] - 8s 161us/step - loss: 0.3873 - acc: 0.8598 - val_loss: 2.7788 - val_acc: 0.4881\n",
      "Epoch 97/100\n",
      "50000/50000 [==============================] - 9s 181us/step - loss: 0.3914 - acc: 0.8573 - val_loss: 2.8575 - val_acc: 0.4858\n",
      "Epoch 98/100\n",
      "50000/50000 [==============================] - 8s 165us/step - loss: 0.4018 - acc: 0.8550 - val_loss: 2.9158 - val_acc: 0.4915\n",
      "Epoch 99/100\n",
      "50000/50000 [==============================] - 8s 151us/step - loss: 0.3846 - acc: 0.8611 - val_loss: 2.8894 - val_acc: 0.4865\n",
      "Epoch 100/100\n",
      "50000/50000 [==============================] - 17s 348us/step - loss: 0.3661 - acc: 0.8667 - val_loss: 2.9148 - val_acc: 0.4902\n"
     ]
    },
    {
     "data": {
      "text/plain": [
       "<keras.callbacks.History at 0x1268e7ba8>"
      ]
     },
     "execution_count": 12,
     "metadata": {},
     "output_type": "execute_result"
    }
   ],
   "source": [
    "model.fit(x_train, y_train, \n",
    "          epochs=EPOCHS, \n",
    "          batch_size=BATCH_SIZE, \n",
    "          validation_data=(x_test, y_test), \n",
    "          shuffle=True)"
   ]
  },
  {
   "cell_type": "code",
   "execution_count": 14,
   "metadata": {},
   "outputs": [
    {
     "data": {
      "image/png": "[encoded data removed]",
      "text/plain": [
       "<Figure size 432x288 with 1 Axes>"
      ]
     },
     "metadata": {
      "needs_background": "light"
     },
     "output_type": "display_data"
    },
    {
     "data": {
      "image/png": "[encoded data removed]",
      "text/plain": [
       "<Figure size 432x288 with 1 Axes>"
      ]
     },
     "metadata": {
      "needs_background": "light"
     },
     "output_type": "display_data"
    }
   ],
   "source": [
    "import matplotlib.pyplot as plt\n",
    "\n",
    "\n",
    "train_loss = model.history.history[\"loss\"]\n",
    "valid_loss = model.history.history[\"val_loss\"]\n",
    "\n",
    "train_acc = model.history.history[\"acc\"]\n",
    "valid_acc = model.history.history[\"val_acc\"]\n",
    "\n",
    "plt.plot(range(len(train_loss)), train_loss, label=\"train loss\")\n",
    "plt.plot(range(len(valid_loss)), valid_loss, label=\"valid loss\")\n",
    "plt.legend()\n",
    "plt.title(\"Loss\")\n",
    "plt.show()\n",
    "\n",
    "plt.plot(range(len(train_acc)), train_acc, label=\"train accuracy\")\n",
    "plt.plot(range(len(valid_acc)), valid_acc, label=\"valid accuracy\")\n",
    "plt.legend()\n",
    "plt.title(\"Accuracy\")\n",
    "plt.show()"
   ]
  },
  {
   "cell_type": "code",
   "execution_count": null,
   "metadata": {},
   "outputs": [],
   "source": []
  }
 ],
 "metadata": {
  "kernelspec": {
   "display_name": "TensorFlow",
   "language": "python",
   "name": "tensorflow"
  },
  "language_info": {
   "codemirror_mode": {
    "name": "ipython",
    "version": 3
   },
   "file_extension": ".py",
   "mimetype": "text/x-python",
   "name": "python",
   "nbconvert_exporter": "python",
   "pygments_lexer": "ipython3",
   "version": "3.6.8"
  }
 },
 "nbformat": 4,
 "nbformat_minor": 2
}
