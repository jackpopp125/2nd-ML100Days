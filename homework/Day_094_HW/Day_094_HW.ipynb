{
 "cells": [
  {
   "cell_type": "markdown",
   "metadata": {},
   "source": [
    "## 教學目標:\n",
    "\n",
    "了解 Convolution 卷積的組成\n",
    "\n",
    "\n",
    "\n",
    "## 範例內容:\n",
    "\n",
    "1.定義單步的卷積\n",
    "\n",
    "2.輸出卷積的計算值"
   ]
  },
  {
   "cell_type": "code",
   "execution_count": 1,
   "metadata": {},
   "outputs": [],
   "source": [
    "import numpy as np"
   ]
  },
  {
   "cell_type": "code",
   "execution_count": 2,
   "metadata": {},
   "outputs": [],
   "source": [
    "# GRADED FUNCTION: conv_single_step\n",
    "def conv_single_step(a_slice_prev, W, b):\n",
    "    \"\"\"\n",
    "    定義一層 Kernel (內核), 使用的參數說明如下\n",
    "    Arguments:\n",
    "        a_slice_prev -- 輸入資料的維度\n",
    "        W -- 權重, 被使用在 a_slice_prev\n",
    "        b -- 偏差參數 \n",
    "    Returns:\n",
    "        Z -- 滑動窗口（W，b）卷積在前一個 feature map 上的結果\n",
    "    \"\"\"\n",
    "\n",
    "    # 定義一個元素介於 a_slice and W\n",
    "    s = a_slice_prev * W\n",
    "    # 加總所有的 \"s\" 並指定給Z.\n",
    "    Z = np.sum(s)\n",
    "    # Add bias b to Z. 這是 float() 函數, \n",
    "    Z = float(Z + b)\n",
    "\n",
    "    return Z"
   ]
  },
  {
   "cell_type": "code",
   "execution_count": 3,
   "metadata": {},
   "outputs": [
    {
     "name": "stdout",
     "output_type": "stream",
     "text": [
      "Z = -6.999089450680221\n"
     ]
    }
   ],
   "source": [
    "'''\n",
    "seed( ) 用於指定隨機數生成時所用算法開始的整數值，\n",
    "如果使用相同的seed( )值，則每次生成的隨即數都相同，\n",
    "如果不設置這個值，則係統根據時間來自己選擇這個值，\n",
    "此時每次生成的隨機數因時間差異而不同。\n",
    "'''\n",
    "np.random.seed(1)\n",
    "#定義一個 4x4x3 的 feature map\n",
    "a_slice_prev = np.random.randn(4, 4, 3)\n",
    "W = np.random.randn(4, 4, 3)\n",
    "b = np.random.randn(1, 1, 1)\n",
    "\n",
    "#取得計算後,卷績矩陣的值\n",
    "Z = conv_single_step(a_slice_prev, W, b)\n",
    "print(\"Z =\", Z)"
   ]
  },
  {
   "cell_type": "code",
   "execution_count": null,
   "metadata": {},
   "outputs": [],
   "source": []
  },
  {
   "cell_type": "code",
   "execution_count": null,
   "metadata": {},
   "outputs": [],
   "source": []
  },
  {
   "cell_type": "markdown",
   "metadata": {},
   "source": [
    "## 作業目標:\n",
    "\n",
    "了解 Convolution 卷積的組成\n",
    "\n",
    "\n",
    "## 作業重點:\n",
    "\n",
    "修改 a_slice_prev, 檢查 Z 的輸出"
   ]
  },
  {
   "cell_type": "code",
   "execution_count": 4,
   "metadata": {},
   "outputs": [
    {
     "name": "stdout",
     "output_type": "stream",
     "text": [
      "Z = -6.999089450680221\n"
     ]
    }
   ],
   "source": [
    "import numpy as np\n",
    "\n",
    "# GRADED FUNCTION: conv_single_step\n",
    "def conv_single_step(a_slice_prev, W, b):\n",
    "    \"\"\"\n",
    "    定義一層 Kernel (內核), 使用的參數說明如下\n",
    "    Arguments:\n",
    "        a_slice_prev -- 輸入資料的維度\n",
    "        W -- 權重, 被使用在 a_slice_prev\n",
    "        b -- 偏差參數 \n",
    "    Returns:\n",
    "        Z -- 滑動窗口（W，b）卷積在前一個 feature map 上的結果\n",
    "    \"\"\"\n",
    "\n",
    "    # 定義一個元素介於 a_slice and W\n",
    "    s = a_slice_prev * W\n",
    "    # 加總所有的 \"s\" 並指定給Z.\n",
    "    Z = np.sum(s)\n",
    "    # Add bias b to Z. 這是 float() 函數,\n",
    "    Z = float(Z + b)\n",
    "\n",
    "    return Z\n",
    "\n",
    "\n",
    "\n",
    "'''\n",
    "Your Code Here :\n",
    "--------------------\n",
    "\n",
    "np.random.seed(1)\n",
    "#定義一個 a * a * d 的 feature map\n",
    "a_slice_prev = \n",
    "W = \n",
    "b = np.random.randn(1, 1, 1)\n",
    "\n",
    "#取得計算後,卷積矩陣的值\n",
    "Z = conv_single_step(a_slice_prev, W, b)\n",
    "print(\"Z =\", Z)\n",
    "'''\n",
    "\n",
    "np.random.seed(1)\n",
    "#定義一個 4 x 4 x 3 的 feature map\n",
    "a_slice_prev = np.random.randn(4, 4, 3)\n",
    "W = np.random.randn(4, 4, 3)\n",
    "b = np.random.randn(1, 1, 1)\n",
    "\n",
    "#取得計算後,卷績矩陣的值\n",
    "Z = conv_single_step(a_slice_prev, W, b)\n",
    "print(\"Z =\", Z)"
   ]
  },
  {
   "cell_type": "code",
   "execution_count": null,
   "metadata": {},
   "outputs": [],
   "source": []
  },
  {
   "cell_type": "markdown",
   "metadata": {},
   "source": [
    "## 看 ANS 後 改一版"
   ]
  },
  {
   "cell_type": "code",
   "execution_count": 5,
   "metadata": {},
   "outputs": [
    {
     "name": "stdout",
     "output_type": "stream",
     "text": [
      "Z = 11.954675594834528\n"
     ]
    }
   ],
   "source": [
    "np.random.seed(1)\n",
    "\n",
    "\n",
    "#定義一個 a*a*d 的 feature map\n",
    "a_slice_prev = np.random.randn(16, 16, 1)\n",
    "W = np.random.randn(16, 16, 1)\n",
    "b = np.random.randn(1, 1, 1)\n",
    "\n",
    "#取得計算後,卷積矩陣的值\n",
    "Z = conv_single_step(a_slice_prev, W, b)\n",
    "print(\"Z =\", Z)"
   ]
  },
  {
   "cell_type": "code",
   "execution_count": 6,
   "metadata": {},
   "outputs": [
    {
     "name": "stdout",
     "output_type": "stream",
     "text": [
      "Z = 30.046217995633093\n"
     ]
    }
   ],
   "source": [
    "np.random.seed(1)\n",
    "\n",
    "\n",
    "#定義一個 a*a*d 的 feature map\n",
    "a_slice_prev = np.random.randn(32, 32, 3)\n",
    "W = np.random.randn(32, 32, 3)\n",
    "b = np.random.randn(1, 1, 1)\n",
    "\n",
    "#取得計算後,卷積矩陣的值\n",
    "Z = conv_single_step(a_slice_prev, W, b)\n",
    "print(\"Z =\", Z)"
   ]
  },
  {
   "cell_type": "code",
   "execution_count": 7,
   "metadata": {},
   "outputs": [
    {
     "name": "stdout",
     "output_type": "stream",
     "text": [
      "Z = 3.027931858262864\n"
     ]
    }
   ],
   "source": [
    "np.random.seed(1)\n",
    "\n",
    "\n",
    "#定義一個 a*a*d 的 feature map\n",
    "a_slice_prev = np.random.randn(2, 2, 1)\n",
    "W = np.random.randn(2, 2, 1)\n",
    "b = np.random.randn(1, 1, 1)\n",
    "\n",
    "#取得計算後,卷積矩陣的值\n",
    "Z = conv_single_step(a_slice_prev, W, b)\n",
    "print(\"Z =\", Z)"
   ]
  },
  {
   "cell_type": "code",
   "execution_count": null,
   "metadata": {},
   "outputs": [],
   "source": []
  },
  {
   "cell_type": "markdown",
   "metadata": {},
   "source": [
    "## 參考資料\n",
    "\n",
    "![img1](https://ai100-fileentity.cupoy.com/2nd/homework/D94/1564381721875/large)\n",
    "\n",
    "\n",
    "## 介紹三種視覺化方法： \n",
    "\n",
    "\n",
    "1. 卷積核輸出的視覺化(Visualizing intermediate convnet outputs (intermediate activations)，即視覺化卷積核經過啟動之後的結果。能夠看到圖像經過卷積之後結果，幫助理解卷積核的作用\n",
    "\n",
    "\n",
    "\n",
    "2. 卷積核的視覺化(Visualizing convnets filters)，説明我們理解卷積核是如何感受圖像的\n",
    "\n",
    "\n",
    "\n",
    "3. 熱度圖視覺化(Visualizing heatmaps of class activation in an image)，通過熱度圖，瞭解圖像分類問題中圖像哪些部分起到了關鍵作用，同時可以定位圖像中物體的位置。\n",
    "\n",
    "\n",
    "\n",
    "\n",
    "\n",
    "\n",
    "## 卷積核輸出的視覺化(Visualizing intermediate convnet outputs (intermediate activations)\n",
    "\n",
    "\n",
    "想法很簡單：向CNN輸入一張圖像，獲得某些卷積層的輸出，視覺化該輸出。\n",
    "\n",
    "\n",
    "圖片來源：Deep Learning with Python\n",
    "\n",
    "\n",
    "## [處理影像的利器 - 卷積神經網路(Convolutional Neural Network)](https://dotblogs.com.tw/greengem/2017/12/17/094150)\n",
    "\n",
    "![img2](https://ai100-fileentity.cupoy.com/2nd/homework/D94/1564381933176/large)\n",
    "\n",
    "\n",
    "![img3](https://ai100-fileentity.cupoy.com/2nd/homework/D94/1564381942733/large)\n",
    "\n",
    "\n",
    "\n",
    "透過多層卷積/池化，萃取特徵當作 Input，再接至一到多個完全連接層，進行分類，這就是CNN的典型作法，下一篇我們就用 CNN 來作阿拉伯數字的辨識，看看有甚麼不同，緊接著，我們再介紹兩個 CNN 應用，說明 Neural Network 不是只能作分類而已。\n",
    "\n",
    "\n",
    "\n",
    "參考來源：https://dotblogs.com.tw/greengem/2017/12/17/094150\n",
    "\n",
    "\n",
    "\n",
    "\n",
    "--\n",
    "\n",
    "\n",
    "\n",
    "## 延伸閱讀\n",
    "\n",
    "## [An Intuitive Explanation of Convolutional Neural Networks](https://ujjwalkarn.me/2016/08/11/intuitive-explanation-convnets/)\n",
    "\n",
    "![img4](https://ai100-fileentity.cupoy.com/2nd/homework/D94/1564382096604/large)\n",
    "\n",
    "\n",
    "![img5](https://ai100-fileentity.cupoy.com/2nd/homework/D94/1564382293987/large)\n",
    "\n"
   ]
  },
  {
   "cell_type": "code",
   "execution_count": null,
   "metadata": {},
   "outputs": [],
   "source": []
  },
  {
   "cell_type": "markdown",
   "metadata": {},
   "source": [
    "## [[機器學習 ML NOTE]Convolution Neural Network 卷積神經網路](https://medium.com/%E9%9B%9E%E9%9B%9E%E8%88%87%E5%85%94%E5%85%94%E7%9A%84%E5%B7%A5%E7%A8%8B%E4%B8%96%E7%95%8C/%E6%A9%9F%E5%99%A8%E5%AD%B8%E7%BF%92-ml-note-convolution-neural-network-%E5%8D%B7%E7%A9%8D%E7%A5%9E%E7%B6%93%E7%B6%B2%E8%B7%AF-bfa8566744e9)\n",
    "\n",
    "![img201908020920](https://miro.medium.com/max/700/1*Wb5a_EQyGRCC080gzof6WQ.png)\n",
    "\n",
    "\n",
    "\n",
    "\n",
    "\n",
    "## [Visualizing parts of Convolutional Neural Networks using Keras and Cats](https://hackernoon.com/visualizing-parts-of-convolutional-neural-networks-using-keras-and-cats-5cc01b214e59)\n",
    "\n",
    "## Recap\n",
    "\n",
    "Three main types of layers in CNNs: Convolutional, Pooling, Activation\n",
    "\n",
    "> <font color=\"red\">1. Convolutional layers multiply kernel value by the image window and optimize the kernel weights over time using gradient descent</font>\n",
    "\n",
    "\n",
    "> <font color=\"red\">2. Pooling layers describe a window of an image using a single value which is the max or the average of that window</font>\n",
    "\n",
    "\n",
    "> <font color=\"red\">3. Activation layers squash the values into a range, typically [0,1] or [-1,1]</font>\n",
    "\n",
    "\n",
    "\n",
    "![img20-0](https://hackernoon.com/hn-images/1*ZCjPUFrB6eHPRi4eyP6aaA.gif)\n",
    "\n",
    "![img20-1](https://hackernoon.com/hn-images/1*Feiexqhmvh9xMGVVJweXhg.gif)\n",
    "\n",
    "![img20](https://hackernoon.com/hn-images/1*rIiBaH5IMVPaE5BM-n7VZw.png)\n",
    "\n",
    "\n",
    "\n",
    "\n",
    "\n"
   ]
  },
  {
   "cell_type": "code",
   "execution_count": null,
   "metadata": {},
   "outputs": [],
   "source": []
  },
  {
   "cell_type": "markdown",
   "metadata": {},
   "source": [
    "![img21](https://imgcrack.com/files/onxqaov5w76.png)"
   ]
  },
  {
   "cell_type": "code",
   "execution_count": null,
   "metadata": {},
   "outputs": [],
   "source": []
  },
  {
   "cell_type": "markdown",
   "metadata": {},
   "source": [
    "![img22](https://theffork.com/wp-content/uploads/2019/02/final.png)"
   ]
  },
  {
   "cell_type": "code",
   "execution_count": null,
   "metadata": {},
   "outputs": [],
   "source": []
  }
 ],
 "metadata": {
  "kernelspec": {
   "display_name": "TensorFlow",
   "language": "python",
   "name": "tensorflow"
  },
  "language_info": {
   "codemirror_mode": {
    "name": "ipython",
    "version": 3
   },
   "file_extension": ".py",
   "mimetype": "text/x-python",
   "name": "python",
   "nbconvert_exporter": "python",
   "pygments_lexer": "ipython3",
   "version": "3.6.8"
  }
 },
 "nbformat": 4,
 "nbformat_minor": 2
}
