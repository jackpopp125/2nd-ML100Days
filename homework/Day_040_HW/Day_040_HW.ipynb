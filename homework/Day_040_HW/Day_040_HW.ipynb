{
 "cells": [
  {
   "cell_type": "code",
   "execution_count": 1,
   "metadata": {},
   "outputs": [],
   "source": [
    "import numpy as np\n",
    "import matplotlib.pyplot as plt\n",
    "from sklearn import datasets, linear_model\n",
    "from sklearn.model_selection import train_test_split\n",
    "from sklearn.metrics import mean_squared_error, r2_score\n",
    "\n",
    "from sklearn.model_selection import cross_val_score\n",
    "\n",
    "import warnings\n",
    "warnings.filterwarnings('ignore')"
   ]
  },
  {
   "cell_type": "code",
   "execution_count": 2,
   "metadata": {},
   "outputs": [
    {
     "name": "stdout",
     "output_type": "stream",
     "text": [
      "[  33.40877011 -292.24672884  481.07153405  369.06269614 -966.37849405\n",
      "  589.81383056  232.61924401  288.3263166   802.72704593   37.81285219]\n",
      "Mean squared error: 2939.42\n"
     ]
    }
   ],
   "source": [
    "# 讀取糖尿病資料集\n",
    "diabetes = datasets.load_diabetes()\n",
    "\n",
    "X = diabetes.data\n",
    "y = diabetes.target\n",
    "\n",
    "# 切分訓練集/測試集\n",
    "X_train, X_test, y_train, y_test = train_test_split(X, y, test_size=0.2, random_state=4)\n",
    "\n",
    "# 建立一個線性回歸模型\n",
    "reg = linear_model.LinearRegression()\n",
    "\n",
    "# 將訓練資料丟進去模型訓練\n",
    "reg.fit(X_train, y_train)\n",
    "\n",
    "# 將測試資料丟進模型得到預測結果\n",
    "y_pred = reg.predict(X_test)\n",
    "\n",
    "\n",
    "print(reg.coef_)\n",
    "\n",
    "# 預測值與實際值的差距，使用 MSE\n",
    "mse = mean_squared_error(y_test, y_pred)\n",
    "print(\"Mean squared error: %.2f\" % mse)"
   ]
  },
  {
   "cell_type": "markdown",
   "metadata": {},
   "source": [
    "## LASSO"
   ]
  },
  {
   "cell_type": "code",
   "execution_count": 3,
   "metadata": {},
   "outputs": [
    {
     "name": "stdout",
     "output_type": "stream",
     "text": [
      "[  0.          -0.         321.203877    57.74744332   0.\n",
      "   0.          -0.           0.         332.41817196   0.        ]\n",
      "Mean squared error: 3505.84\n"
     ]
    }
   ],
   "source": [
    "# 讀取糖尿病資料集\n",
    "diabetes = datasets.load_diabetes()\n",
    "\n",
    "X = diabetes.data\n",
    "y = diabetes.target\n",
    "\n",
    "# 切分訓練集/測試集\n",
    "X_train, X_test, y_train, y_test = train_test_split(X, y, test_size=0.2, random_state=4)\n",
    "\n",
    "# 建立一個線性回歸模型\n",
    "lasso = linear_model.Lasso(alpha=1.0)\n",
    "\n",
    "# 將訓練資料丟進去模型訓練\n",
    "lasso.fit(X_train, y_train)\n",
    "\n",
    "# 將測試資料丟進模型得到預測結果\n",
    "y_pred = lasso.predict(X_test)\n",
    "\n",
    "\n",
    "print(lasso.coef_)\n",
    "\n",
    "# 預測值與實際值的差距，使用 MSE\n",
    "mse = mean_squared_error(y_test, y_pred)\n",
    "print(\"Mean squared error: %.2f\" % mse)"
   ]
  },
  {
   "cell_type": "markdown",
   "metadata": {},
   "source": [
    "## Ridge"
   ]
  },
  {
   "cell_type": "code",
   "execution_count": 4,
   "metadata": {},
   "outputs": [
    {
     "name": "stdout",
     "output_type": "stream",
     "text": [
      "[  48.8125786   -85.49511577  270.22532535  201.91767903   17.41308665\n",
      "  -19.04346706 -136.47737574  122.26503311  247.60074795   95.59855598]\n",
      "Mean squared error: 3221.42\n"
     ]
    }
   ],
   "source": [
    "# 讀取糖尿病資料集\n",
    "diabetes = datasets.load_diabetes()\n",
    "\n",
    "X = diabetes.data\n",
    "y = diabetes.target\n",
    "\n",
    "# 切分訓練集/測試集\n",
    "X_train, X_test, y_train, y_test = train_test_split(X, y, test_size=0.2, random_state=4)\n",
    "\n",
    "# 建立一個線性回歸模型\n",
    "ridge = linear_model.Ridge(alpha=1.0)\n",
    "\n",
    "# 將訓練資料丟進去模型訓練\n",
    "ridge.fit(X_train, y_train)\n",
    "\n",
    "# 將測試資料丟進模型得到預測結果\n",
    "y_pred = ridge.predict(X_test)\n",
    "\n",
    "\n",
    "print(ridge.coef_)\n",
    "\n",
    "# 預測值與實際值的差距，使用 MSE\n",
    "mse = mean_squared_error(y_test, y_pred)\n",
    "print(\"Mean squared error: %.2f\" % mse)"
   ]
  },
  {
   "cell_type": "markdown",
   "metadata": {},
   "source": [
    "### 可以看見 LASSO 與 Ridge 的結果並沒有比原本的線性回歸來得好， 這是因為目標函數被加上了正規化函數，讓模型不能過於複雜，相當於限制模型擬和資料的能力。因此若沒有發現 Over-fitting 的情況，是可以不需要一開始就加上太強的正規化的。"
   ]
  },
  {
   "cell_type": "markdown",
   "metadata": {},
   "source": [
    "## [作業重點]\n",
    "\n",
    "使用 Sklearn 中的 Lasso, Ridge 模型，來訓練各種資料集，務必了解送進去模型訓練的資料型態為何，也請了解模型中各項參數的意義。\n",
    "\n",
    "機器學習的模型非常多種，但要訓練的資料多半有固定的格式，確保你了解訓練資料的格式為何，這樣在應用新模型時，就能夠最快的上手開始訓練！\n",
    "\n",
    "## 練習時間\n",
    "\n",
    "試著使用 sklearn datasets 的其他資料集 (boston, ...)，來訓練自己的線性迴歸模型，並調整不同的 alpha (正規化參數) 來觀察模型訓練的情形。"
   ]
  },
  {
   "cell_type": "markdown",
   "metadata": {},
   "source": [
    "## boston"
   ]
  },
  {
   "cell_type": "code",
   "execution_count": 5,
   "metadata": {},
   "outputs": [
    {
     "name": "stdout",
     "output_type": "stream",
     "text": [
      "target y : [24.  21.6 34.7 33.4 36.2] \n",
      "\n",
      "shape:\n",
      " (506, 13)\n",
      "\n",
      "feature name:\n",
      " ['CRIM' 'ZN' 'INDUS' 'CHAS' 'NOX' 'RM' 'AGE' 'DIS' 'RAD' 'TAX' 'PTRATIO'\n",
      " 'B' 'LSTAT']\n"
     ]
    }
   ],
   "source": [
    "# 讀取 boston 資料集 - ridge\n",
    "boston = datasets.load_boston()\n",
    "\n",
    "print('target y : %s \\n' % boston.target[0:5])\n",
    "print('shape:\\n', boston.data.shape)\n",
    "print('\\nfeature name:\\n', boston.feature_names)\n",
    "# print('\\ntarget names:\\n', boston.target_names)\n",
    "\n",
    "# # 為方便視覺化，我們只使用資料集中的 1 個 feature (column)\n",
    "# X = boston.data[:, np.newaxis, 2]\n",
    "# print(\"Data shape: \", X.shape) # 我們取出的其中一個 feature\n",
    "\n",
    "# 上述範例是為了視覺化方便只取1個feature，這次用所有feature\n",
    "X = boston.data\n",
    "y = boston.target\n",
    "\n",
    "# train test split - 切分訓練集/測試集\n",
    "X_train, X_test, y_train, y_test = train_test_split(X, y, test_size = 0.3, random_state = 87)"
   ]
  },
  {
   "cell_type": "code",
   "execution_count": 6,
   "metadata": {},
   "outputs": [
    {
     "name": "stdout",
     "output_type": "stream",
     "text": [
      "\n",
      " c.v. score : 0.6796744375539973\n",
      "\n",
      "[-1.39098133e-01  3.97316638e-02  1.56281579e-02  2.23420723e+00\n",
      " -1.73650287e+01  3.81367677e+00  4.13297396e-06 -1.32562522e+00\n",
      "  3.00934394e-01 -1.04274363e-02 -9.69146963e-01  8.59336770e-03\n",
      " -5.28261221e-01]\n",
      "MSE : 26.57\n"
     ]
    }
   ],
   "source": [
    "# model - 建立一個線性回歸模型 - LinearRegression\n",
    "reg = linear_model.LinearRegression()\n",
    "\n",
    "# fit (train model) - 將訓練資料丟進去模型訓練\n",
    "reg.fit(X_train, y_train)\n",
    "# cross validation\n",
    "print(f'\\n c.v. score : {cross_val_score(reg, X_train, y_train, cv=5).mean()}\\n')\n",
    "\n",
    "# predict - 將測試資料丟進模型得到預測結果\n",
    "y_pred = reg.predict(X_test)\n",
    "\n",
    "\n",
    "print(reg.coef_)\n",
    "\n",
    "# evaluation - 預測值與實際值的差距，使用 MSE\n",
    "mse = mean_squared_error(y_test, y_pred)\n",
    "print(\"MSE : %.2f\" % mse)"
   ]
  },
  {
   "cell_type": "code",
   "execution_count": 7,
   "metadata": {},
   "outputs": [
    {
     "name": "stdout",
     "output_type": "stream",
     "text": [
      "\n",
      " c.v. score : 0.679859678061506\n",
      "\n",
      "[-1.38867043e-01  3.97653707e-02  1.42925929e-02  2.21642968e+00\n",
      " -1.70477891e+01  3.81471723e+00 -2.46258642e-04 -1.32093461e+00\n",
      "  3.00137218e-01 -1.04560694e-02 -9.65564144e-01  8.62094784e-03\n",
      " -5.28675787e-01]\n",
      "MSE : 26.58\n"
     ]
    }
   ],
   "source": [
    "# model - 建立一個線性回歸模型 - Lasso\n",
    "lasso = linear_model.Lasso(alpha=0.001)\n",
    "\n",
    "# fit (train model) - 將訓練資料丟進去模型訓練\n",
    "lasso.fit(X_train, y_train)\n",
    "# cross validation\n",
    "print(f'\\n c.v. score : {cross_val_score(lasso, X_train, y_train, cv=5).mean()}\\n')\n",
    "\n",
    "# predict - 將測試資料丟進模型得到預測結果\n",
    "y_pred = lasso.predict(X_test)\n",
    "\n",
    "\n",
    "print(lasso.coef_)\n",
    "\n",
    "# evaluation - 預測值與實際值的差距，使用 MSE\n",
    "mse = mean_squared_error(y_test, y_pred)\n",
    "print(\"MSE : %.2f\" % mse)"
   ]
  },
  {
   "cell_type": "code",
   "execution_count": 8,
   "metadata": {},
   "outputs": [
    {
     "name": "stdout",
     "output_type": "stream",
     "text": [
      "\n",
      " c.v. score : 0.67972737145291\n",
      "\n",
      "[-1.38990807e-01  3.97489489e-02  1.49915639e-02  2.23189097e+00\n",
      " -1.72149884e+01  3.81515912e+00 -1.37906718e-04 -1.32355812e+00\n",
      "  3.00537430e-01 -1.04400411e-02 -9.67402512e-01  8.60619254e-03\n",
      " -5.28363616e-01]\n",
      "MSE : 26.57\n"
     ]
    }
   ],
   "source": [
    "# model - 建立一個線性回歸模型 - Ridge\n",
    "ridge = linear_model.Ridge(alpha=0.01)\n",
    "\n",
    "# fit (train model) - 將訓練資料丟進去模型訓練\n",
    "ridge.fit(X_train, y_train)\n",
    "# cross validation\n",
    "print(f'\\n c.v. score : {cross_val_score(ridge, X_train, y_train, cv=5).mean()}\\n')\n",
    "\n",
    "# predict - 將測試資料丟進模型得到預測結果\n",
    "y_pred = ridge.predict(X_test)\n",
    "\n",
    "\n",
    "print(ridge.coef_)\n",
    "\n",
    "# evaluation - 預測值與實際值的差距，使用 MSE\n",
    "mse = mean_squared_error(y_test, y_pred)\n",
    "print(\"MSE : %.2f\" % mse)"
   ]
  },
  {
   "cell_type": "code",
   "execution_count": null,
   "metadata": {},
   "outputs": [],
   "source": []
  },
  {
   "cell_type": "markdown",
   "metadata": {},
   "source": [
    "## breast_cancer"
   ]
  },
  {
   "cell_type": "code",
   "execution_count": 9,
   "metadata": {},
   "outputs": [
    {
     "name": "stdout",
     "output_type": "stream",
     "text": [
      "target y : [0 0 0 0 0] \n",
      "\n",
      "shape:\n",
      " (569, 30)\n",
      "\n",
      "feature name:\n",
      " ['mean radius' 'mean texture' 'mean perimeter' 'mean area'\n",
      " 'mean smoothness' 'mean compactness' 'mean concavity'\n",
      " 'mean concave points' 'mean symmetry' 'mean fractal dimension'\n",
      " 'radius error' 'texture error' 'perimeter error' 'area error'\n",
      " 'smoothness error' 'compactness error' 'concavity error'\n",
      " 'concave points error' 'symmetry error' 'fractal dimension error'\n",
      " 'worst radius' 'worst texture' 'worst perimeter' 'worst area'\n",
      " 'worst smoothness' 'worst compactness' 'worst concavity'\n",
      " 'worst concave points' 'worst symmetry' 'worst fractal dimension']\n",
      "\n",
      "target names:\n",
      " ['malignant' 'benign']\n"
     ]
    }
   ],
   "source": [
    "# 讀取 breast_cancer 資料集 - ridge\n",
    "breast_cancer = datasets.load_breast_cancer()\n",
    "\n",
    "print('target y : %s \\n' % breast_cancer.target[0:5])\n",
    "print('shape:\\n', breast_cancer.data.shape)\n",
    "print('\\nfeature name:\\n', breast_cancer.feature_names)\n",
    "print('\\ntarget names:\\n', breast_cancer.target_names)\n",
    "\n",
    "# # 為方便視覺化，我們只使用資料集中的 1 個 feature (column)\n",
    "# X = breast_cancer.data[:, np.newaxis, 2]\n",
    "# print(\"Data shape: \", X.shape) # 我們取出的其中一個 feature\n",
    "\n",
    "# 上述範例是為了視覺化方便只取1個feature，這次用所有feature\n",
    "X = breast_cancer.data\n",
    "y = breast_cancer.target\n",
    "\n",
    "# train test split - 切分訓練集/測試集\n",
    "X_train, X_test, y_train, y_test = train_test_split(X, y, test_size = 0.3, random_state = 87)"
   ]
  },
  {
   "cell_type": "code",
   "execution_count": 10,
   "metadata": {},
   "outputs": [
    {
     "name": "stdout",
     "output_type": "stream",
     "text": [
      "\n",
      " c.v. score : 0.9572435897435898\n",
      "\n",
      "[[ 3.16827771e+00  1.12453942e-01 -4.34139616e-01  3.00125078e-02\n",
      "  -1.98044056e-01 -6.48121787e-01 -9.43354336e-01 -4.69343500e-01\n",
      "  -3.85536326e-01 -4.56262392e-02  1.49809629e-03  2.50543793e-01\n",
      "   5.63424081e-01 -5.67725023e-02 -2.36742727e-02 -5.09932642e-02\n",
      "  -1.00641715e-01 -4.70169637e-02 -1.27031587e-01 -5.03053313e-04\n",
      "   1.95723365e+00 -2.51917256e-01 -7.97381654e-02 -5.04585602e-02\n",
      "  -3.24692870e-01 -1.33672162e+00 -1.76207024e+00 -7.69479707e-01\n",
      "  -1.03706326e+00 -1.23606900e-01]]\n",
      "MSE : 0.05\n"
     ]
    }
   ],
   "source": [
    "# model - 建立一個線性回歸模型 - LogisticRegression\n",
    "logistic = linear_model.LogisticRegression(penalty = 'l2', C = 3)\n",
    "\n",
    "# fit (train model) - 將訓練資料丟進去模型訓練\n",
    "logistic.fit(X_train, y_train)\n",
    "# cross validation\n",
    "print(f'\\n c.v. score : {cross_val_score(logistic, X_train, y_train, cv=5).mean()}\\n')\n",
    "\n",
    "# predict - 將測試資料丟進模型得到預測結果\n",
    "y_pred = logistic.predict(X_test)\n",
    "\n",
    "\n",
    "print(logistic.coef_)\n",
    "\n",
    "# evaluation - 預測值與實際值的差距，使用 MSE\n",
    "mse = mean_squared_error(y_test, y_pred)\n",
    "print(\"MSE : %.2f\" % mse)"
   ]
  },
  {
   "cell_type": "code",
   "execution_count": 11,
   "metadata": {},
   "outputs": [
    {
     "name": "stdout",
     "output_type": "stream",
     "text": [
      "\n",
      " c.v. score : 0.7408237815245793\n",
      "\n",
      "[ 1.20553660e-01 -1.14784762e-03 -4.63939812e-03 -3.99130681e-04\n",
      "  1.52608994e+00  3.25641330e+00 -2.13807946e+00 -0.00000000e+00\n",
      " -1.55253507e+00 -0.00000000e+00 -4.32083183e-01  0.00000000e+00\n",
      "  6.30641734e-02 -4.63093256e-04 -8.68528800e+00  8.52394865e-01\n",
      "  3.93782656e+00 -3.39746324e+00 -8.78622485e+00 -0.00000000e+00\n",
      " -1.92321112e-01 -8.80263185e-03 -2.73561625e-03  1.14283378e-03\n",
      " -1.94817644e+00 -1.20428561e-01 -3.60071000e-01 -1.48160700e+00\n",
      "  5.98256098e-01 -2.94987573e+00]\n",
      "MSE : 0.07\n"
     ]
    }
   ],
   "source": [
    "# model - 建立一個線性回歸模型 - Lasso\n",
    "lasso = linear_model.Lasso(alpha=0.00001)\n",
    "\n",
    "# fit (train model) - 將訓練資料丟進去模型訓練\n",
    "lasso.fit(X_train, y_train)\n",
    "# cross validation\n",
    "print(f'\\n c.v. score : {cross_val_score(lasso, X_train, y_train, cv=5).mean()}\\n')\n",
    "\n",
    "# predict - 將測試資料丟進模型得到預測結果\n",
    "y_pred = lasso.predict(X_test)\n",
    "\n",
    "\n",
    "print(lasso.coef_)\n",
    "\n",
    "# evaluation - 預測值與實際值的差距，使用 MSE\n",
    "mse = mean_squared_error(y_test, y_pred)\n",
    "print(\"MSE : %.2f\" % mse)"
   ]
  },
  {
   "cell_type": "code",
   "execution_count": 12,
   "metadata": {},
   "outputs": [
    {
     "name": "stdout",
     "output_type": "stream",
     "text": [
      "\n",
      " c.v. score : 0.7318954196904071\n",
      "\n",
      "[ 3.26938874e-01  9.53124753e-04 -1.85952136e-02 -1.17469035e-03\n",
      "  1.34958589e+00  3.62487948e+00 -2.10534213e+00 -1.10713037e-01\n",
      " -1.89910584e+00  1.94433255e-01 -2.68422314e-01  2.02930004e-03\n",
      "  9.56930639e-02 -2.11531847e-03 -1.27801277e+01  2.22602918e+00\n",
      "  4.33521512e+00 -8.49544379e+00 -1.09432588e+01 -3.98610795e+00\n",
      " -2.71338162e-01 -1.01242856e-02 -5.73205444e-03  1.70942054e-03\n",
      " -1.33204538e+00 -2.64061315e-01 -3.98542520e-01 -9.68460515e-01\n",
      "  9.49367897e-01 -2.64288992e+00]\n",
      "MSE : 0.08\n"
     ]
    }
   ],
   "source": [
    "# model - 建立一個線性回歸模型 - Ridge\n",
    "ridge = linear_model.Ridge(alpha=0.00001)\n",
    "\n",
    "# fit (train model) - 將訓練資料丟進去模型訓練\n",
    "ridge.fit(X_train, y_train)\n",
    "# cross validation\n",
    "print(f'\\n c.v. score : {cross_val_score(ridge, X_train, y_train, cv=5).mean()}\\n')\n",
    "\n",
    "# predict - 將測試資料丟進模型得到預測結果\n",
    "y_pred = ridge.predict(X_test)\n",
    "\n",
    "\n",
    "print(ridge.coef_)\n",
    "\n",
    "# evaluation - 預測值與實際值的差距，使用 MSE\n",
    "mse = mean_squared_error(y_test, y_pred)\n",
    "print(\"MSE : %.2f\" % mse)"
   ]
  }
 ],
 "metadata": {
  "kernelspec": {
   "display_name": "Python 3",
   "language": "python",
   "name": "python3"
  },
  "language_info": {
   "codemirror_mode": {
    "name": "ipython",
    "version": 3
   },
   "file_extension": ".py",
   "mimetype": "text/x-python",
   "name": "python",
   "nbconvert_exporter": "python",
   "pygments_lexer": "ipython3",
   "version": "3.6.5"
  }
 },
 "nbformat": 4,
 "nbformat_minor": 2
}
