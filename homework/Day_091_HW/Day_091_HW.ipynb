{
 "cells": [
  {
   "cell_type": "code",
   "execution_count": 1,
   "metadata": {},
   "outputs": [
    {
     "name": "stderr",
     "output_type": "stream",
     "text": [
      "Using TensorFlow backend.\n"
     ]
    }
   ],
   "source": [
    "import os\n",
    "import keras\n",
    "os.environ[\"CUDA_VISIBLE_DEVICES\"] = \"\" # 使用 CPU\n",
    "\n",
    "import numpy as np\n",
    "import cv2 # 載入 cv2 套件\n",
    "import matplotlib.pyplot as plt\n",
    "\n",
    "train, test = keras.datasets.cifar10.load_data()"
   ]
  },
  {
   "cell_type": "code",
   "execution_count": 2,
   "metadata": {},
   "outputs": [],
   "source": [
    "x_train, y_train = train\n",
    "x_test, y_test = test\n",
    "y_train = y_train.astype(int)\n",
    "y_test = y_test.astype(int)"
   ]
  },
  {
   "cell_type": "markdown",
   "metadata": {},
   "source": [
    "## 產生直方圖特徵的訓練資料"
   ]
  },
  {
   "cell_type": "code",
   "execution_count": 3,
   "metadata": {},
   "outputs": [],
   "source": [
    "x_train_histogram = []\n",
    "x_test_histogram = []\n",
    "\n",
    "# 對於所有訓練資料\n",
    "for i in range(len(x_train)):\n",
    "    chans = cv2.split(x_train[i]) # 把圖像的 3 個 channel 切分出來\n",
    "    # 對於所有 channel\n",
    "    hist_feature = []\n",
    "    for chan in chans:\n",
    "        # 計算該 channel 的直方圖\n",
    "        hist = cv2.calcHist([chan], [0], None, [16], [0, 256]) # 切成 16 個 bin\n",
    "        hist_feature.extend(hist.flatten())\n",
    "    # 把計算的直方圖特徵收集起來\n",
    "    x_train_histogram.append(hist_feature)\n",
    "\n",
    "# 對於所有測試資料也做一樣的處理\n",
    "for i in range(len(x_test)):\n",
    "    chans = cv2.split(x_test[i]) # 把圖像的 3 個 channel 切分出來\n",
    "    # 對於所有 channel\n",
    "    hist_feature = []\n",
    "    for chan in chans:\n",
    "        # 計算該 channel 的直方圖\n",
    "        hist = cv2.calcHist([chan], [0], None, [16], [0, 256]) # 切成 16 個 bin\n",
    "        hist_feature.extend(hist.flatten())\n",
    "    x_test_histogram.append(hist_feature)\n",
    "\n",
    "x_train_histogram = np.array(x_train_histogram)\n",
    "x_test_histogram = np.array(x_test_histogram)"
   ]
  },
  {
   "cell_type": "markdown",
   "metadata": {},
   "source": [
    "## 產生 HOG 特徵的訓練資料\n",
    "\n",
    "HOG 特徵通過計算和統計圖像局部區域的梯度方向直方圖來構建特徵，具體細節不在我們涵蓋的範圍裡面，有興趣的同學請參考補充資料哦"
   ]
  },
  {
   "cell_type": "code",
   "execution_count": 4,
   "metadata": {},
   "outputs": [],
   "source": [
    "# SZ=20\n",
    "bin_n = 16 # Number of bins\n",
    "\n",
    "def hog(img):\n",
    "    img = cv2.cvtColor(img, cv2.COLOR_RGB2GRAY)\n",
    "    gx = cv2.Sobel(img, cv2.CV_32F, 1, 0)\n",
    "    gy = cv2.Sobel(img, cv2.CV_32F, 0, 1)\n",
    "    mag, ang = cv2.cartToPolar(gx, gy)\n",
    "    bins = np.int32(bin_n*ang/(2*np.pi))    # quantizing binvalues in (0...16)\n",
    "    bin_cells = bins[:10,:10], bins[10:,:10], bins[:10,10:], bins[10:,10:]\n",
    "    mag_cells = mag[:10,:10], mag[10:,:10], mag[:10,10:], mag[10:,10:]\n",
    "    hists = [np.bincount(b.ravel(), m.ravel(), bin_n) for b, m in zip(bin_cells, mag_cells)]\n",
    "    hist = np.hstack(hists)     # hist is a 64 bit vector\n",
    "    return hist.astype(np.float32)\n",
    "\n",
    "x_train_hog = np.array([hog(x) for x in x_train])\n",
    "x_test_hog = np.array([hog(x) for x in x_test])"
   ]
  },
  {
   "cell_type": "markdown",
   "metadata": {},
   "source": [
    "## SVM model\n",
    "\n",
    "SVM 是機器學習中一個經典的分類算法，具體細節有興趣可以參考 [知乎上的解釋](https://www.zhihu.com/question/21094489)，我們這裡直接調用 opencv 中實現好的函數\n",
    "\n",
    "## 用 histogram 特徵訓練 SVM 模型\n",
    "\n",
    "訓練過程可能會花點時間，請等他一下"
   ]
  },
  {
   "cell_type": "code",
   "execution_count": 5,
   "metadata": {},
   "outputs": [],
   "source": [
    "SVM_hist = cv2.ml.SVM_create()\n",
    "SVM_hist.setKernel(cv2.ml.SVM_LINEAR)\n",
    "SVM_hist.setGamma(5.383)\n",
    "SVM_hist.setType(cv2.ml.SVM_C_SVC)\n",
    "SVM_hist.setC(2.67)\n",
    "\n",
    "#training\n",
    "SVM_hist.train(x_train_histogram, cv2.ml.ROW_SAMPLE, y_train)\n",
    "\n",
    "# prediction\n",
    "_, y_hist_train = SVM_hist.predict(x_train_histogram)\n",
    "_, y_hist_test = SVM_hist.predict(x_test_histogram)"
   ]
  },
  {
   "cell_type": "markdown",
   "metadata": {},
   "source": [
    "## 用 HOG 特徵訓練 SVM 模型\n",
    "\n",
    "訓練過程可能會花點時間，請等他一下"
   ]
  },
  {
   "cell_type": "code",
   "execution_count": 6,
   "metadata": {},
   "outputs": [],
   "source": [
    "SVM_hog = cv2.ml.SVM_create()\n",
    "SVM_hog.setKernel(cv2.ml.SVM_LINEAR)\n",
    "SVM_hog.setGamma(5.383)\n",
    "SVM_hog.setType(cv2.ml.SVM_C_SVC)\n",
    "SVM_hog.setC(2.67)\n",
    "\n",
    "#training\n",
    "SVM_hog.train(x_train_hog, cv2.ml.ROW_SAMPLE, y_train)\n",
    "\n",
    "# prediction\n",
    "_, y_hog_train = SVM_hog.predict(x_train_hog)\n",
    "_, y_hog_test = SVM_hog.predict(x_test_hog)"
   ]
  },
  {
   "cell_type": "code",
   "execution_count": null,
   "metadata": {},
   "outputs": [],
   "source": []
  },
  {
   "cell_type": "markdown",
   "metadata": {},
   "source": [
    "## 作業\n",
    "\n",
    "嘗試比較用 color histogram 和 HOG 特徵來訓練的 SVM 分類器在 cifar10 training 和 testing data 上準確度的差別"
   ]
  },
  {
   "cell_type": "code",
   "execution_count": 7,
   "metadata": {},
   "outputs": [
    {
     "name": "stdout",
     "output_type": "stream",
     "text": [
      "0.1444\n",
      "0.2079\n"
     ]
    }
   ],
   "source": [
    "from sklearn.metrics import accuracy_score\n",
    "print(accuracy_score(y_test, y_hist_test))\n",
    "print(accuracy_score(y_test, y_hog_test))"
   ]
  },
  {
   "cell_type": "code",
   "execution_count": 9,
   "metadata": {},
   "outputs": [
    {
     "name": "stdout",
     "output_type": "stream",
     "text": [
      "For HIST:\n",
      "Accuracy of training data: 0.1358\n",
      "Accuracy of testing data: 0.1444\n",
      "\n",
      "\n",
      "For HOG:\n",
      "Accuracy of training data: 0.2084\n",
      "Accuracy of testing data: 0.2079\n"
     ]
    }
   ],
   "source": [
    "print('For HIST:')\n",
    "print('Accuracy of training data: %.4f'%(y_hist_train==y_train).mean())\n",
    "print('Accuracy of testing data: %.4f'%(y_hist_test==y_test).mean())\n",
    "\n",
    "print(\"\\n\")\n",
    "\n",
    "print('For HOG:')\n",
    "print('Accuracy of training data: %.4f'%(y_hog_train==y_train).mean())\n",
    "print('Accuracy of testing data: %.4f'%(y_hog_test==y_test).mean())"
   ]
  },
  {
   "cell_type": "code",
   "execution_count": 10,
   "metadata": {},
   "outputs": [
    {
     "name": "stdout",
     "output_type": "stream",
     "text": [
      "hist train_acc: 0.6791\n",
      "hist test_acc: 0.1444\n",
      "hog train_acc: 1.0419\n",
      "hog test_acc: 0.2079\n"
     ]
    }
   ],
   "source": [
    "import numpy as np\n",
    "\n",
    "def getAccuracy(y_true, y_pred):\n",
    "    size = y_test.shape[0]\n",
    "    return np.sum(y_true == y_pred) / size\n",
    "\n",
    "print(\"hist train_acc:\", getAccuracy(y_train, y_hist_train))\n",
    "print(\"hist test_acc:\", getAccuracy(y_test, y_hist_test))\n",
    "print(\"hog train_acc:\", getAccuracy(y_train, y_hog_train))\n",
    "print(\"hog test_acc:\", getAccuracy(y_test, y_hog_test))"
   ]
  },
  {
   "cell_type": "code",
   "execution_count": null,
   "metadata": {},
   "outputs": [],
   "source": []
  },
  {
   "cell_type": "markdown",
   "metadata": {},
   "source": [
    "## 參考資料\n",
    "\n",
    "\n",
    "## 1. [Sobel 運算子 wiki](https://zh.wikipedia.org/wiki/%E7%B4%A2%E8%B2%9D%E7%88%BE%E7%AE%97%E5%AD%90)\n",
    "\n",
    "## 2. [基於傳統圖像處理的目標檢測與識別(HOG+SVM附代碼)](https://www.cnblogs.com/zyly/p/9651261.html)\n",
    "\n",
    "--\n",
    "\n",
    "## 3. [知乎 - 什麼是 SVM](https://www.zhihu.com/question/21094489)\n",
    "\n",
    "-\n",
    "\n",
    "故事來源 : [Please explain Support Vector Machines (SVM) like I am a 5 year old](https://link.zhihu.com/?target=https%3A//www.reddit.com/r/MachineLearning/comments/15zrpp/please_explain_support_vector_machines_svm_like_i/)\n",
    "\n",
    "-\n",
    "\n",
    "\n",
    "\n",
    "### 故事是這樣子的：\n",
    "\n",
    "在很久以前的情人節，大俠要去救他的愛人，但魔鬼和他玩了一個遊戲。\n",
    "\n",
    "魔鬼在桌子上似乎有規律放了兩種顏色的球，說：“你用一根棍分開它們？要求：盡量在放更多球之後，仍然適用。”\n",
    "\n",
    "![img1](https://pic1.zhimg.com/80/5aff2bcdbe23a8c764a32b1b5fb13b71_hd.jpg)\n",
    "\n",
    "於是大俠這樣放，幹的不錯？ \n",
    "\n",
    "![img2](https://pic1.zhimg.com/80/3dbf3ba8f940dfcdaf877de2d590ddd1_hd.jpg)\n",
    "\n",
    "然後魔鬼，又在桌上放了更多的球，似乎有一個球站錯了陣營。 \n",
    "\n",
    "![img3](https://pic4.zhimg.com/80/0b2d0b26ec99ee40fd14760350e957af_hd.jpg)\n",
    "\n",
    "SVM就是試圖把棍放在最佳位置，好讓在棍的兩邊有盡可能大的間隙。\n",
    "\n",
    "![img4](https://pic4.zhimg.com/80/4b9e8a8a87c7982c548505574c13dc05_hd.jpg)\n",
    "\n",
    "\n",
    "現在即使魔鬼放了更多的球，棍仍然是一個好的分界線。 \n",
    "\n",
    "![img5](https://pic1.zhimg.com/80/7befaafc45763b9c4469abf245dc98cb_hd.jpg)\n",
    "\n",
    "\n",
    "然後，在SVM工具箱中有另一個更加重要的trick。魔鬼看到大俠已經學會了一個trick，於是魔鬼給了大俠一個新的挑戰。 \n",
    "\n",
    "![img6](https://pic2.zhimg.com/80/558161d10d1f0ffd2d7f9a46767de587_hd.jpg)\n",
    "\n",
    "\n",
    "現在，大俠沒有棍可以很好幫他分開兩種球了，現在怎麼辦呢？當然像所有武俠片中一樣大俠桌子一拍，球飛到空中。然後，憑藉大俠的輕功，大俠抓起一張紙，插到了兩種球的中間。\n",
    "\n",
    "![img7](https://pic3.zhimg.com/80/55d7ad2a6e23579b17aec0c3c9135eb3_hd.jpg)\n",
    "\n",
    "\n",
    "\n",
    "\n",
    "\n",
    "現在，從魔鬼的角度看這些球，這些球看起來像是被一條曲線分開了。\n",
    "\n",
    "![img8](https://pic2.zhimg.com/80/e5d5185561a4d5369f36a9737fc849c6_hd.jpg)\n",
    "\n",
    "\n",
    "<font color=\"red\">再之後，無聊的大人們，把這些球叫做「data」，把棍子叫做「classifier」 ,最大間隙trick叫做「optimization」，拍桌子叫做「kernelling」 ,那張紙叫做「hyperplane」。</font>\n",
    "\n",
    "\n",
    "\n",
    "\n",
    "\n",
    "--\n",
    "\n",
    "## 4. [程式碼範例的來源，裡面用的是 mnist 來跑 ](https://github.com/opencv/opencv/blob/master/samples/python/tutorial_code/ml/py_svm_opencv/hogsvm.py)\n",
    "- [範例來源裡使用的 digit.png 檔案位置](https://raw.githubusercontent.com/opencv/opencv/master/samples/data/digits.png)"
   ]
  },
  {
   "cell_type": "code",
   "execution_count": null,
   "metadata": {},
   "outputs": [],
   "source": []
  }
 ],
 "metadata": {
  "kernelspec": {
   "display_name": "TensorFlow",
   "language": "python",
   "name": "tensorflow"
  },
  "language_info": {
   "codemirror_mode": {
    "name": "ipython",
    "version": 3
   },
   "file_extension": ".py",
   "mimetype": "text/x-python",
   "name": "python",
   "nbconvert_exporter": "python",
   "pygments_lexer": "ipython3",
   "version": "3.6.8"
  }
 },
 "nbformat": 4,
 "nbformat_minor": 2
}
