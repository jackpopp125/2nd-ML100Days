{
 "cells": [
  {
   "cell_type": "markdown",
   "metadata": {},
   "source": [
    "## [範例重點]\n",
    "\n",
    "了解隨機森林的建模方法及其中超參數的意義"
   ]
  },
  {
   "cell_type": "code",
   "execution_count": 1,
   "metadata": {},
   "outputs": [],
   "source": [
    "from sklearn import datasets, metrics\n",
    "from sklearn.ensemble import RandomForestClassifier\n",
    "from sklearn.model_selection import train_test_split\n",
    "\n",
    "from sklearn.model_selection import GridSearchCV  "
   ]
  },
  {
   "cell_type": "code",
   "execution_count": 2,
   "metadata": {},
   "outputs": [],
   "source": [
    "# 讀取鳶尾花資料集\n",
    "iris = datasets.load_iris()\n",
    "\n",
    "# 切分訓練集/測試集\n",
    "X_train, X_test, y_train, y_test = train_test_split(iris.data, iris.target, test_size=0.25, random_state=4)\n",
    "\n",
    "# 建立模型 (使用 20 顆樹，每棵樹的最大深度為 4)\n",
    "clf = RandomForestClassifier(n_estimators=20, max_depth=4)\n",
    "\n",
    "# 訓練模型\n",
    "clf.fit(X_train, y_train)\n",
    "\n",
    "# 預測測試集\n",
    "y_pred = clf.predict(X_test)"
   ]
  },
  {
   "cell_type": "code",
   "execution_count": 3,
   "metadata": {},
   "outputs": [
    {
     "name": "stdout",
     "output_type": "stream",
     "text": [
      "Accuracy:  0.9736842105263158\n"
     ]
    }
   ],
   "source": [
    "acc = metrics.accuracy_score(y_test, y_pred)\n",
    "print(\"Accuracy: \", acc)"
   ]
  },
  {
   "cell_type": "code",
   "execution_count": 4,
   "metadata": {},
   "outputs": [
    {
     "name": "stdout",
     "output_type": "stream",
     "text": [
      "['sepal length (cm)', 'sepal width (cm)', 'petal length (cm)', 'petal width (cm)']\n"
     ]
    }
   ],
   "source": [
    "print(iris.feature_names)"
   ]
  },
  {
   "cell_type": "code",
   "execution_count": 5,
   "metadata": {},
   "outputs": [
    {
     "name": "stdout",
     "output_type": "stream",
     "text": [
      "Feature importance:  [0.11868989 0.03775461 0.45031277 0.39324272]\n"
     ]
    }
   ],
   "source": [
    "print(\"Feature importance: \", clf.feature_importances_)"
   ]
  },
  {
   "cell_type": "markdown",
   "metadata": {},
   "source": [
    "## 作業\n",
    "\n",
    "試著調整 RandomForestClassifier(...) 中的參數，並觀察是否會改變結果？\n",
    "\n",
    "改用其他資料集 (boston, wine)，並與回歸模型與決策樹的結果進行比較"
   ]
  },
  {
   "cell_type": "code",
   "execution_count": 9,
   "metadata": {},
   "outputs": [
    {
     "name": "stdout",
     "output_type": "stream",
     "text": [
      "best_score  : 0.9838709677419355\n",
      "best_params : {'criterion': 'gini', 'max_depth': 6, 'max_features': 'sqrt', 'min_samples_leaf': 2, 'min_samples_split': 2, 'n_estimators': 50, 'oob_score': True} \n",
      "\n",
      "Acuuracy:  0.9629629629629629\n"
     ]
    },
    {
     "name": "stderr",
     "output_type": "stream",
     "text": [
      "/Users/johnsonhuang/anaconda3/lib/python3.6/site-packages/sklearn/model_selection/_search.py:813: DeprecationWarning: The default of the `iid` parameter will change from True to False in version 0.22 and will be removed in 0.24. This will change numeric results when test-set sizes are unequal.\n",
      "  DeprecationWarning)\n"
     ]
    }
   ],
   "source": [
    "# 讀取鳶尾花資料集\n",
    "wine = datasets.load_wine()\n",
    "\n",
    "X = wine.data\n",
    "y = wine.target\n",
    "\n",
    "# 切分訓練集/測試集\n",
    "X_train, X_test, y_train, y_test = train_test_split(X, y, test_size = 0.3, random_state = 87)\n",
    "\n",
    "\n",
    "# Grid Search - to find best parameter set\n",
    "from sklearn.model_selection import GridSearchCV  \n",
    "# 建立模型\n",
    "clf = RandomForestClassifier(random_state = 87, n_jobs=-1)\n",
    "\n",
    "\n",
    "# 列出參數組合\n",
    "param_grid = {\"criterion\" : [\"entropy\", \"gini\"],\n",
    "              \"max_depth\" : [4,6,8,10],\n",
    "              \"min_samples_split\" : [2,5,10],\n",
    "              \"min_samples_leaf\" : [2,5,10],\n",
    "              \"n_estimators\" : [50, 100], # 使用 n 顆樹\n",
    "              \"max_features\" : ['auto', 'sqrt'], # 如何選取 features\n",
    "              \"oob_score\" : [True]\n",
    "             }\n",
    "gs = GridSearchCV(estimator = RandomForestClassifier(random_state = 87),\n",
    "                  param_grid = param_grid,\n",
    "                  cv = 5,\n",
    "                  scoring = \"accuracy\")\n",
    "gs.fit(X_train, y_train)\n",
    "print(\"best_score  : %s\" % gs.best_score_)\n",
    "print(\"best_params : %s \\n\" % gs.best_params_)\n",
    "\n",
    "# 建立由目前training set找出最佳參數組合的模型\n",
    "clf = gs.best_estimator_\n",
    "\n",
    "# 訓練模型\n",
    "clf.fit(X_train, y_train)\n",
    "\n",
    "# 預測測試集\n",
    "y_pred = clf.predict(X_test)\n",
    "\n",
    "acc = metrics.accuracy_score(y_test, y_pred)\n",
    "print(\"Acuuracy: \", acc)"
   ]
  },
  {
   "cell_type": "code",
   "execution_count": 24,
   "metadata": {},
   "outputs": [
    {
     "name": "stdout",
     "output_type": "stream",
     "text": [
      "feature_importances_ : \n",
      "[0.13356712 0.03414842 0.00719719 0.03003084 0.01300849 0.0697054\n",
      " 0.17408136 0.01211203 0.01072792 0.20886514 0.04403277 0.10421\n",
      " 0.15831333]\n",
      " \n",
      "Features sorted by their score:\n",
      "(0.2088651387, 'color_intensity')\n",
      "(0.1740813605, 'flavanoids')\n",
      "(0.1583133344, 'proline')\n",
      "(0.1335671169, 'alcohol')\n",
      "(0.1042099953, 'od280/od315_of_diluted_wines')\n",
      "(0.0697053958, 'total_phenols')\n",
      "(0.0440327673, 'hue')\n",
      "(0.0341484152, 'malic_acid')\n",
      "(0.0300308435, 'alcalinity_of_ash')\n",
      "(0.013008494, 'magnesium')\n",
      "(0.0121120285, 'nonflavanoid_phenols')\n",
      "(0.0107279203, 'proanthocyanins')\n",
      "(0.0071971896, 'ash')\n"
     ]
    },
    {
     "data": {
      "image/png": "[encoded data removed]",
      "text/plain": [
       "<Figure size 432x288 with 1 Axes>"
      ]
     },
     "metadata": {},
     "output_type": "display_data"
    },
    {
     "name": "stdout",
     "output_type": "stream",
     "text": [
      "\n",
      "\n",
      "accuracy = 1.000000 \n"
     ]
    }
   ],
   "source": [
    "# 1. feature_importances_\n",
    "print(\"feature_importances_ : \\n%s\\n \" % (clf.feature_importances_))\n",
    "\n",
    "from sklearn.datasets import load_boston\n",
    "from sklearn.ensemble import RandomForestRegressor\n",
    "from sklearn.model_selection import StratifiedKFold\n",
    "from sklearn.feature_selection import RFECV\n",
    "from sklearn.svm import SVC\n",
    "import numpy as np\n",
    "\n",
    "#Load the dataset\n",
    "names = wine.feature_names\n",
    "# Create the RFE object and compute a cross-validated score.\n",
    "svc = SVC(kernel=\"linear\")\n",
    "rfecv = RFECV(estimator=svc, step=1, cv=StratifiedKFold(2),\n",
    "              scoring='accuracy')\n",
    "rfecv.fit(X_train, y_train)\n",
    "print(\"Features sorted by their score:\")\n",
    "\n",
    "a = sorted(zip(map(lambda x: round(x, 10), clf.feature_importances_), names), reverse=True)\n",
    "ind = np.arange(0, len(list(a)), 1)\n",
    "for i in ind :\n",
    "    print(a[i])\n",
    "\n",
    "# bar plot the  feature_importances_\n",
    "import numpy as np\n",
    "import matplotlib.pyplot as plt\n",
    "\n",
    "\n",
    "width = 0.5\n",
    "plt.barh(ind, clf.feature_importances_, width, facecolor = \"dodgerblue\", align='center', alpha = 0.75)\n",
    "plt.title(\"Features sorted by their score:\")\n",
    "# yticks\n",
    "plt.yticks(ind, names)\n",
    "\n",
    "ax = plt.gca()\n",
    "plt.show()    \n",
    "\n",
    "print(\"\\n\")\n",
    "\n",
    "# 2. accuracy\n",
    "print(\"accuracy = %f \" % (clf.score(X_train, y_train)))"
   ]
  },
  {
   "cell_type": "code",
   "execution_count": null,
   "metadata": {},
   "outputs": [],
   "source": []
  },
  {
   "cell_type": "code",
   "execution_count": null,
   "metadata": {},
   "outputs": [],
   "source": []
  },
  {
   "cell_type": "markdown",
   "metadata": {},
   "source": [
    "## 參考資料"
   ]
  },
  {
   "cell_type": "markdown",
   "metadata": {},
   "source": [
    "## 知名 ML youtuber 教你手刻隨機森林 by Python\n",
    "\n",
    "影片連結：https://www.youtube.com/watch?v=QHOazyP-YlM"
   ]
  },
  {
   "cell_type": "code",
   "execution_count": null,
   "metadata": {},
   "outputs": [],
   "source": []
  }
 ],
 "metadata": {
  "kernelspec": {
   "display_name": "Python 3",
   "language": "python",
   "name": "python3"
  },
  "language_info": {
   "codemirror_mode": {
    "name": "ipython",
    "version": 3
   },
   "file_extension": ".py",
   "mimetype": "text/x-python",
   "name": "python",
   "nbconvert_exporter": "python",
   "pygments_lexer": "ipython3",
   "version": "3.6.5"
  }
 },
 "nbformat": 4,
 "nbformat_minor": 2
}
