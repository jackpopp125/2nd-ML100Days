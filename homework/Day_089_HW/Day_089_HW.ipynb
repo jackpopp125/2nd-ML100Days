{
 "cells": [
  {
   "cell_type": "markdown",
   "metadata": {},
   "source": [
    "## 範例重點\n",
    "\n",
    "學習如何在 keras 中撰寫自定義的 loss function\n",
    "\n",
    "知道如何在訓練時使用自定義的 loss function"
   ]
  },
  {
   "cell_type": "code",
   "execution_count": 1,
   "metadata": {},
   "outputs": [
    {
     "name": "stderr",
     "output_type": "stream",
     "text": [
      "Using TensorFlow backend.\n"
     ]
    }
   ],
   "source": [
    "import os\n",
    "import keras\n",
    "\n",
    "# 本範例不需使用 GPU, 將 GPU 設定為 \"無\"\n",
    "os.environ[\"CUDA_VISIBLE_DEVICES\"] = \"\""
   ]
  },
  {
   "cell_type": "code",
   "execution_count": 2,
   "metadata": {},
   "outputs": [],
   "source": [
    "train, test = keras.datasets.cifar10.load_data()"
   ]
  },
  {
   "cell_type": "code",
   "execution_count": 3,
   "metadata": {},
   "outputs": [],
   "source": [
    "## 資料前處理\n",
    "def preproc_x(x, flatten=True):\n",
    "    x = x / 255.\n",
    "    if flatten:\n",
    "        x = x.reshape((len(x), -1))\n",
    "    return x\n",
    "\n",
    "def preproc_y(y, num_classes=10):\n",
    "    if y.shape[-1] == 1:\n",
    "        y = keras.utils.to_categorical(y, num_classes)\n",
    "    return y    "
   ]
  },
  {
   "cell_type": "code",
   "execution_count": 4,
   "metadata": {},
   "outputs": [],
   "source": [
    "x_train, y_train = train\n",
    "x_test, y_test = test\n",
    "\n",
    "# 資料前處理 - X 標準化\n",
    "x_train = preproc_x(x_train)\n",
    "x_test = preproc_x(x_test)\n",
    "\n",
    "# 資料前處理 -Y 轉成 onehot\n",
    "y_train = preproc_y(y_train)\n",
    "y_test = preproc_y(y_test)"
   ]
  },
  {
   "cell_type": "code",
   "execution_count": 5,
   "metadata": {},
   "outputs": [],
   "source": [
    "from keras.layers import BatchNormalization\n",
    "\n",
    "\"\"\"\n",
    "建立神經網路，並加入 BN layer\n",
    "\"\"\"\n",
    "def build_mlp(input_shape, output_units=10, num_neurons=[512, 256, 128]):\n",
    "    input_layer = keras.layers.Input(input_shape)\n",
    "    \n",
    "    for i, n_units in enumerate(num_neurons):\n",
    "        if i == 0:\n",
    "            x = keras.layers.Dense(units=n_units, \n",
    "                                   activation=\"relu\", \n",
    "                                   name=\"hidden_layer\"+str(i+1))(input_layer)\n",
    "            x = BatchNormalization()(x)\n",
    "        else:\n",
    "            x = keras.layers.Dense(units=n_units, \n",
    "                                   activation=\"relu\", \n",
    "                                   name=\"hidden_layer\"+str(i+1))(x)\n",
    "            x = BatchNormalization()(x)\n",
    "    \n",
    "    out = keras.layers.Dense(units=output_units, activation=\"softmax\", name=\"output\")(x)\n",
    "    \n",
    "    model = keras.models.Model(inputs=[input_layer], outputs=[out])\n",
    "    return model"
   ]
  },
  {
   "cell_type": "code",
   "execution_count": 6,
   "metadata": {},
   "outputs": [],
   "source": [
    "## 超參數設定\n",
    "LEARNING_RATE = 1e-3\n",
    "EPOCHS = 50\n",
    "BATCH_SIZE = 1024\n",
    "MOMENTUM = 0.95"
   ]
  },
  {
   "cell_type": "code",
   "execution_count": 9,
   "metadata": {},
   "outputs": [],
   "source": [
    "import tensorflow as tf\n",
    "import keras.backend as K\n",
    "\n",
    "\"\"\"\n",
    "# 撰寫自定義的 loss function: focal loss (https://blog.csdn.net/u014380165/article/details/77019084)\n",
    "\"\"\"\n",
    "def focal_loss(gamma=2., alpha=4.):\n",
    "    gamma = float(gamma)\n",
    "    alpha = float(alpha)\n",
    "    def focal_loss_fixed(y_true, y_pred):\n",
    "        \"\"\"Focal loss for multi-classification\n",
    "        FL(p_t)=-alpha(1-p_t)^{gamma}ln(p_t)\n",
    "        \"\"\"\n",
    "        epsilon = 1e-8\n",
    "        y_true = tf.convert_to_tensor(y_true, tf.float32)\n",
    "        y_pred = tf.convert_to_tensor(y_pred, tf.float32)\n",
    "\n",
    "        model_out = tf.add(y_pred, epsilon)\n",
    "        ce = tf.multiply(y_true, -tf.log(model_out))\n",
    "        weight = tf.multiply(y_true, tf.pow(tf.subtract(1., model_out), gamma))\n",
    "        fl = tf.multiply(alpha, tf.multiply(weight, ce))\n",
    "        reduced_fl = tf.reduce_max(fl, axis=1)\n",
    "        return tf.reduce_mean(reduced_fl)\n",
    "    return focal_loss_fixed\n",
    "\n",
    "\n",
    "\"\"\"\n",
    "# 載入 Callbacks，撰寫一個 f1 score 的 callback function\n",
    "\"\"\"\n",
    "\n",
    "from keras.callbacks import Callback\n",
    "from sklearn.metrics import f1_score\n",
    "\n",
    "class f1sc(Callback):\n",
    "    def on_train_begin(self, epoch, logs = {}):\n",
    "        logs = logs or {}\n",
    "        record_items = [\"val_auc\", \"val_f1sc\", \"val_fp\", \"val_fn\", \"val_tp\", \"val_tn\"]\n",
    "        for i in record_items:\n",
    "            if i not in self.params['metrics']:\n",
    "                self.params['metrics'].append(i)\n",
    "    \n",
    "    def on_epoch_end(self, epoch, logs = {}, thres=0.5):\n",
    "        logs = logs or {}\n",
    "        y_true = self.validation_data[1].argmax(axis = 1)\n",
    "        y_pred = self.model.predict(self.validation_data[0])\n",
    "        y_pred = (y_pred[:, 1] >= thres) * 1\n",
    "        \n",
    "        logs[\"val_f1sc\"] = f1_score(y_true = y_true, y_pred = y_pred, average=\"weighted\")\n",
    "        \n",
    "log_f1sc = f1sc()"
   ]
  },
  {
   "cell_type": "code",
   "execution_count": 10,
   "metadata": {
    "scrolled": true
   },
   "outputs": [
    {
     "name": "stdout",
     "output_type": "stream",
     "text": [
      "_________________________________________________________________\n",
      "Layer (type)                 Output Shape              Param #   \n",
      "=================================================================\n",
      "input_2 (InputLayer)         (None, 3072)              0         \n",
      "_________________________________________________________________\n",
      "hidden_layer1 (Dense)        (None, 512)               1573376   \n",
      "_________________________________________________________________\n",
      "batch_normalization_4 (Batch (None, 512)               2048      \n",
      "_________________________________________________________________\n",
      "hidden_layer2 (Dense)        (None, 256)               131328    \n",
      "_________________________________________________________________\n",
      "batch_normalization_5 (Batch (None, 256)               1024      \n",
      "_________________________________________________________________\n",
      "hidden_layer3 (Dense)        (None, 128)               32896     \n",
      "_________________________________________________________________\n",
      "batch_normalization_6 (Batch (None, 128)               512       \n",
      "_________________________________________________________________\n",
      "output (Dense)               (None, 10)                1290      \n",
      "=================================================================\n",
      "Total params: 1,742,474\n",
      "Trainable params: 1,740,682\n",
      "Non-trainable params: 1,792\n",
      "_________________________________________________________________\n",
      "Train on 50000 samples, validate on 10000 samples\n",
      "Epoch 1/50\n",
      "50000/50000 [==============================] - 13s 250us/step - loss: 6.0281 - acc: 0.3306 - val_loss: 6.5096 - val_acc: 0.3005\n",
      "Epoch 2/50\n",
      " 1024/50000 [..............................] - ETA: 6s - loss: 4.6393 - acc: 0.4316"
     ]
    },
    {
     "name": "stderr",
     "output_type": "stream",
     "text": [
      "/Users/johnsonhuang/anaconda3/envs/tensorflow/lib/python3.6/site-packages/sklearn/metrics/classification.py:1437: UndefinedMetricWarning: F-score is ill-defined and being set to 0.0 in labels with no predicted samples.\n",
      "  'precision', 'predicted', average, warn_for)\n"
     ]
    },
    {
     "name": "stdout",
     "output_type": "stream",
     "text": [
      "50000/50000 [==============================] - 6s 114us/step - loss: 4.3534 - acc: 0.4435 - val_loss: 4.8047 - val_acc: 0.4071\n",
      "Epoch 3/50\n",
      "50000/50000 [==============================] - 6s 123us/step - loss: 3.9385 - acc: 0.4861 - val_loss: 4.3338 - val_acc: 0.4403\n",
      "Epoch 4/50\n",
      "50000/50000 [==============================] - 6s 121us/step - loss: 3.6655 - acc: 0.5104 - val_loss: 4.3089 - val_acc: 0.4373\n",
      "Epoch 5/50\n",
      "50000/50000 [==============================] - 7s 135us/step - loss: 3.4661 - acc: 0.5340 - val_loss: 4.1028 - val_acc: 0.4557\n",
      "Epoch 6/50\n",
      "50000/50000 [==============================] - 6s 125us/step - loss: 3.2824 - acc: 0.5510 - val_loss: 4.1294 - val_acc: 0.4532\n",
      "Epoch 7/50\n",
      "50000/50000 [==============================] - 7s 139us/step - loss: 3.1174 - acc: 0.5683 - val_loss: 4.0488 - val_acc: 0.4606\n",
      "Epoch 8/50\n",
      "50000/50000 [==============================] - 5s 106us/step - loss: 2.9591 - acc: 0.5842 - val_loss: 4.0138 - val_acc: 0.4620\n",
      "Epoch 9/50\n",
      "50000/50000 [==============================] - 7s 145us/step - loss: 2.8164 - acc: 0.6002 - val_loss: 3.9519 - val_acc: 0.4756\n",
      "Epoch 10/50\n",
      "50000/50000 [==============================] - 8s 155us/step - loss: 2.6785 - acc: 0.6139 - val_loss: 3.9756 - val_acc: 0.4823\n",
      "Epoch 11/50\n",
      "50000/50000 [==============================] - 6s 129us/step - loss: 2.5575 - acc: 0.6259 - val_loss: 3.9174 - val_acc: 0.4854\n",
      "Epoch 12/50\n",
      "50000/50000 [==============================] - 5s 109us/step - loss: 2.4289 - acc: 0.6426 - val_loss: 3.9653 - val_acc: 0.4679\n",
      "Epoch 13/50\n",
      "50000/50000 [==============================] - 6s 111us/step - loss: 2.2970 - acc: 0.6577 - val_loss: 4.0574 - val_acc: 0.4754\n",
      "Epoch 14/50\n",
      "50000/50000 [==============================] - 6s 112us/step - loss: 2.1808 - acc: 0.6708 - val_loss: 4.0758 - val_acc: 0.4778\n",
      "Epoch 15/50\n",
      "50000/50000 [==============================] - 6s 112us/step - loss: 2.0655 - acc: 0.6844 - val_loss: 4.0878 - val_acc: 0.4804\n",
      "Epoch 16/50\n",
      "50000/50000 [==============================] - 6s 115us/step - loss: 1.9478 - acc: 0.6995 - val_loss: 4.1978 - val_acc: 0.4715\n",
      "Epoch 17/50\n",
      "50000/50000 [==============================] - 6s 117us/step - loss: 1.8407 - acc: 0.7114 - val_loss: 4.4401 - val_acc: 0.4556\n",
      "Epoch 18/50\n",
      "50000/50000 [==============================] - 5s 108us/step - loss: 1.7236 - acc: 0.7248 - val_loss: 4.2104 - val_acc: 0.4798\n",
      "Epoch 19/50\n",
      "50000/50000 [==============================] - 6s 111us/step - loss: 1.6075 - acc: 0.7392 - val_loss: 4.1504 - val_acc: 0.4954\n",
      "Epoch 20/50\n",
      "50000/50000 [==============================] - 7s 133us/step - loss: 1.5005 - acc: 0.7545 - val_loss: 4.4924 - val_acc: 0.4689\n",
      "Epoch 21/50\n",
      "50000/50000 [==============================] - 5s 105us/step - loss: 1.3934 - acc: 0.7685 - val_loss: 4.4956 - val_acc: 0.4673\n",
      "Epoch 22/50\n",
      "50000/50000 [==============================] - 6s 128us/step - loss: 1.3067 - acc: 0.7807 - val_loss: 4.5297 - val_acc: 0.4715\n",
      "Epoch 23/50\n",
      "50000/50000 [==============================] - 6s 124us/step - loss: 1.2073 - acc: 0.7966 - val_loss: 4.4837 - val_acc: 0.4744\n",
      "Epoch 24/50\n",
      "50000/50000 [==============================] - 6s 119us/step - loss: 1.1135 - acc: 0.8074 - val_loss: 4.7934 - val_acc: 0.4656\n",
      "Epoch 25/50\n",
      "50000/50000 [==============================] - 5s 108us/step - loss: 1.0354 - acc: 0.8202 - val_loss: 4.7491 - val_acc: 0.4749\n",
      "Epoch 26/50\n",
      "50000/50000 [==============================] - 5s 107us/step - loss: 0.9596 - acc: 0.8324 - val_loss: 4.8487 - val_acc: 0.4738\n",
      "Epoch 27/50\n",
      "50000/50000 [==============================] - 12s 236us/step - loss: 0.8676 - acc: 0.8485 - val_loss: 4.8361 - val_acc: 0.4720\n",
      "Epoch 28/50\n",
      "50000/50000 [==============================] - 7s 145us/step - loss: 0.7988 - acc: 0.8594 - val_loss: 4.8863 - val_acc: 0.4838\n",
      "Epoch 29/50\n",
      "50000/50000 [==============================] - 6s 113us/step - loss: 0.7333 - acc: 0.8689 - val_loss: 5.0268 - val_acc: 0.4803\n",
      "Epoch 30/50\n",
      "50000/50000 [==============================] - 5s 108us/step - loss: 0.6694 - acc: 0.8816 - val_loss: 5.0952 - val_acc: 0.4745\n",
      "Epoch 31/50\n",
      "50000/50000 [==============================] - 6s 114us/step - loss: 0.6086 - acc: 0.8920 - val_loss: 5.1254 - val_acc: 0.4800\n",
      "Epoch 32/50\n",
      "50000/50000 [==============================] - 5s 105us/step - loss: 0.5563 - acc: 0.9023 - val_loss: 5.2430 - val_acc: 0.4759\n",
      "Epoch 33/50\n",
      "50000/50000 [==============================] - 6s 117us/step - loss: 0.4959 - acc: 0.9128 - val_loss: 5.5131 - val_acc: 0.4646\n",
      "Epoch 34/50\n",
      "50000/50000 [==============================] - 5s 105us/step - loss: 0.4468 - acc: 0.9220 - val_loss: 5.4607 - val_acc: 0.4769\n",
      "Epoch 35/50\n",
      "50000/50000 [==============================] - 6s 111us/step - loss: 0.4115 - acc: 0.9279 - val_loss: 5.5727 - val_acc: 0.4715\n",
      "Epoch 36/50\n",
      "50000/50000 [==============================] - 6s 116us/step - loss: 0.3759 - acc: 0.9356 - val_loss: 5.5350 - val_acc: 0.4783\n",
      "Epoch 37/50\n",
      "50000/50000 [==============================] - 6s 115us/step - loss: 0.3363 - acc: 0.9446 - val_loss: 5.6201 - val_acc: 0.4768\n",
      "Epoch 38/50\n",
      "50000/50000 [==============================] - 5s 109us/step - loss: 0.3051 - acc: 0.9490 - val_loss: 5.6913 - val_acc: 0.4763\n",
      "Epoch 39/50\n",
      "50000/50000 [==============================] - 5s 102us/step - loss: 0.2690 - acc: 0.9571 - val_loss: 5.7982 - val_acc: 0.4693\n",
      "Epoch 40/50\n",
      "50000/50000 [==============================] - 5s 103us/step - loss: 0.2446 - acc: 0.9626 - val_loss: 5.9005 - val_acc: 0.4719\n",
      "Epoch 41/50\n",
      "50000/50000 [==============================] - 6s 110us/step - loss: 0.2255 - acc: 0.9658 - val_loss: 5.9639 - val_acc: 0.4817\n",
      "Epoch 42/50\n",
      "50000/50000 [==============================] - 6s 117us/step - loss: 0.1980 - acc: 0.9715 - val_loss: 5.9633 - val_acc: 0.4815\n",
      "Epoch 43/50\n",
      "50000/50000 [==============================] - 5s 104us/step - loss: 0.1777 - acc: 0.9762 - val_loss: 6.0716 - val_acc: 0.4794\n",
      "Epoch 44/50\n",
      "50000/50000 [==============================] - 5s 110us/step - loss: 0.1600 - acc: 0.9795 - val_loss: 6.2331 - val_acc: 0.4708\n",
      "Epoch 45/50\n",
      "50000/50000 [==============================] - 7s 131us/step - loss: 0.1519 - acc: 0.9808 - val_loss: 6.2006 - val_acc: 0.4703\n",
      "Epoch 46/50\n",
      "50000/50000 [==============================] - 6s 124us/step - loss: 0.1323 - acc: 0.9844 - val_loss: 6.2345 - val_acc: 0.4748\n",
      "Epoch 47/50\n",
      "50000/50000 [==============================] - 6s 115us/step - loss: 0.1181 - acc: 0.9872 - val_loss: 6.3765 - val_acc: 0.4779oss: 0.1178 - acc: 0.9\n",
      "Epoch 48/50\n",
      "50000/50000 [==============================] - 6s 119us/step - loss: 0.1059 - acc: 0.9893 - val_loss: 6.3814 - val_acc: 0.4790\n",
      "Epoch 49/50\n",
      "50000/50000 [==============================] - 6s 112us/step - loss: 0.0968 - acc: 0.9912 - val_loss: 6.4402 - val_acc: 0.4825\n",
      "Epoch 50/50\n",
      "50000/50000 [==============================] - 5s 109us/step - loss: 0.0873 - acc: 0.9923 - val_loss: 6.4801 - val_acc: 0.4741\n"
     ]
    }
   ],
   "source": [
    "model = build_mlp(input_shape=x_train.shape[1:])\n",
    "model.summary()\n",
    "\n",
    "optimizer = keras.optimizers.SGD(lr=LEARNING_RATE, nesterov=True, momentum=MOMENTUM)\n",
    "\"\"\"\n",
    "# 在 compile 時，使用自定義的 loss function\n",
    "\"\"\"\n",
    "model.compile(loss=focal_loss(), metrics=[\"accuracy\"], optimizer=optimizer)\n",
    "\n",
    "model.fit(x_train, y_train, \n",
    "          epochs=EPOCHS, \n",
    "          batch_size=BATCH_SIZE, \n",
    "          validation_data=(x_test, y_test), \n",
    "          shuffle=True,\n",
    "          callbacks=[log_f1sc]\n",
    "         )\n",
    "\n",
    "# Collect results\n",
    "train_loss = model.history.history[\"loss\"]\n",
    "valid_loss = model.history.history[\"val_loss\"]\n",
    "train_acc = model.history.history[\"acc\"]\n",
    "valid_acc = model.history.history[\"val_acc\"]\n",
    "\n",
    "valid_f1sc = model.history.history['val_f1sc']"
   ]
  },
  {
   "cell_type": "code",
   "execution_count": 11,
   "metadata": {},
   "outputs": [
    {
     "data": {
      "image/png": "[encoded data removed]",
      "text/plain": [
       "<Figure size 432x288 with 1 Axes>"
      ]
     },
     "metadata": {
      "needs_background": "light"
     },
     "output_type": "display_data"
    },
    {
     "data": {
      "image/png": "[encoded data removed]",
      "text/plain": [
       "<Figure size 432x288 with 1 Axes>"
      ]
     },
     "metadata": {
      "needs_background": "light"
     },
     "output_type": "display_data"
    },
    {
     "data": {
      "image/png": "[encoded data removed]",
      "text/plain": [
       "<Figure size 432x288 with 1 Axes>"
      ]
     },
     "metadata": {
      "needs_background": "light"
     },
     "output_type": "display_data"
    }
   ],
   "source": [
    "import matplotlib.pyplot as plt\n",
    "%matplotlib inline\n",
    "\n",
    "# plot loss\n",
    "plt.plot(range(len(train_loss)), train_loss, label=\"train loss\")\n",
    "plt.plot(range(len(valid_loss)), valid_loss, label=\"valid loss\")\n",
    "plt.legend()\n",
    "plt.title(\"Loss\")\n",
    "plt.show()\n",
    "# plot acc\n",
    "plt.plot(range(len(train_acc)), train_acc, label=\"train accuracy\")\n",
    "plt.plot(range(len(valid_acc)), valid_acc, label=\"valid accuracy\")\n",
    "plt.legend()\n",
    "plt.title(\"Accuracy\")\n",
    "plt.show()\n",
    "# plot F1-score\n",
    "plt.plot(range(len(valid_f1sc)), valid_f1sc, label=\"valid f1-score\")\n",
    "plt.legend()\n",
    "plt.title(\"F1-score\")\n",
    "plt.show()"
   ]
  },
  {
   "cell_type": "code",
   "execution_count": null,
   "metadata": {},
   "outputs": [],
   "source": []
  }
 ],
 "metadata": {
  "kernelspec": {
   "display_name": "TensorFlow",
   "language": "python",
   "name": "tensorflow"
  },
  "language_info": {
   "codemirror_mode": {
    "name": "ipython",
    "version": 3
   },
   "file_extension": ".py",
   "mimetype": "text/x-python",
   "name": "python",
   "nbconvert_exporter": "python",
   "pygments_lexer": "ipython3",
   "version": "3.6.8"
  }
 },
 "nbformat": 4,
 "nbformat_minor": 2
}
