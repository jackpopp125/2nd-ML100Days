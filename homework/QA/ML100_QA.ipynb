{
 "cells": [
  {
   "cell_type": "markdown",
   "metadata": {},
   "source": [
    "## Day_006_HW 異常值判斷\n",
    "\n",
    "-------\n",
    "\n",
    "\n",
    "## 1. 「所謂異常值是指因人為或系統疏失導致出現不合理的值，應該刪除或以其他方式填補、取代；而若是本身行為造成較極端的值則應保留」，上述的理解是否正確呢？\n",
    "\n",
    "\n",
    "\n",
    " => 原則是上對的，不過後面這句「若是本身行為造成較極端的值則應保留」還是會看實際的情況調整，有些雖然是資料中真正的資料，不過如果其影響模型且出現機率很低也是可以拿掉\n",
    "\n",
    "\n",
    "\n",
    "## 2. 作業的註解提到說「就以這個欄位來說，雖然有資料掉在分布以外，也不算異常」，那麼當資料集欄位很多（像這份作業有一百多個欄位），也只能一個一個欄位畫圖並理解各欄位的意思來檢查，或是有其他輔助的判斷準則呢？\n",
    "\n",
    "\n",
    "> ### => 用 「圖表」 或是用 「統計數值」 來看都是屬於「資料探索」的階段，後續也會有一些\n",
    "\n",
    "> ### 「異常值偵測」、\n",
    "\n",
    "> ### 「叢集分析」方法可以用演算法找。"
   ]
  },
  {
   "cell_type": "code",
   "execution_count": null,
   "metadata": {},
   "outputs": [],
   "source": []
  },
  {
   "cell_type": "markdown",
   "metadata": {},
   "source": [
    "## Day_008 常用的 DataFrame 操作\n",
    "\n",
    "-------\n",
    "\n",
    "\n",
    "## 1.  pd.pivot和pd.melt分別是pivot和unpivot嗎，是否即R語言所用的long table, wide table？\n",
    "\n",
    "=> 是\n",
    "\n",
    "\n",
    "\n",
    "## 2. 那麼各自在什麼時機需要想到用pivot和unpivot的方式來整理資料呢？\n",
    "\n",
    "=> 應該是看你拿到的資料無法看出你想的東西？通常在想要彙整資料的時候用的，你可以這樣想：\n",
    "\n",
    "\n",
    "\n",
    "> ### group + agg => pivot, melt => pivot table, Cross Table\n",
    "\n",
    "\n",
    "\n",
    "這三組方法都可以做到彙整資料，最左邊代表彈性最大但是最麻煩，最右邊代表最簡單但是彈性最小"
   ]
  },
  {
   "cell_type": "markdown",
   "metadata": {},
   "source": []
  },
  {
   "cell_type": "code",
   "execution_count": null,
   "metadata": {},
   "outputs": [],
   "source": []
  }
 ],
 "metadata": {
  "kernelspec": {
   "display_name": "Python 3",
   "language": "python",
   "name": "python3"
  },
  "language_info": {
   "codemirror_mode": {
    "name": "ipython",
    "version": 3
   },
   "file_extension": ".py",
   "mimetype": "text/x-python",
   "name": "python",
   "nbconvert_exporter": "python",
   "pygments_lexer": "ipython3",
   "version": "3.6.5"
  }
 },
 "nbformat": 4,
 "nbformat_minor": 2
}
