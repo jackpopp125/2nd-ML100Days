{
 "cells": [
  {
   "cell_type": "markdown",
   "metadata": {},
   "source": [
    "## 請閱讀以下文獻，理解 CNN 原理後回答問題\n",
    "\n",
    "\n",
    "## [卷積神經網路原理 - 中文](https://brohrer.mcknote.com/zh-Hant/how_machine_learning_works/how_convolutional_neural_networks_work.html)\n",
    "\n",
    "--\n",
    "\n",
    "# [CNN for beginner’s guide](https://adeshpande3.github.io/A-Beginner%27s-Guide-To-Understanding-Convolutional-Neural-Networks/)\n",
    "\n",
    "![img20](https://adeshpande3.github.io/assets/Cover.png)\n",
    "\n",
    "\n",
    "--\n",
    "\n",
    "\n",
    "## 若使用總共 128 個濾波器 (filters)，對一張 256x256 的影像做完卷積後，共會得到幾張特徵圖 (feature maps)？\n",
    "\n",
    "> 128 feature maps\n",
    "\n",
    "## 卷積神經網路中，濾波器的大小 (3x3 or 5x5) 與內部數字的值 (value) 是怎麼決定的呢？\n",
    "\n",
    "> weights"
   ]
  },
  {
   "cell_type": "code",
   "execution_count": null,
   "metadata": {},
   "outputs": [],
   "source": []
  },
  {
   "cell_type": "markdown",
   "metadata": {},
   "source": [
    "> ## <font color=\"red\">總覽</font>\n",
    "> ### <font color=\"red\">1. Convolution</font>\n",
    "> ### <font color=\"red\">2. ReLU</font>\n",
    "> ### <font color=\"red\">3. Pooling</font>\n",
    "> ### <font color=\"red\">4. Flattening</font>\n",
    "> ![img12](http://brohrer.github.io/images/cnn12.png)\n",
    "> ![img14](http://brohrer.github.io/images/cnn14.png)"
   ]
  },
  {
   "cell_type": "code",
   "execution_count": null,
   "metadata": {},
   "outputs": [],
   "source": []
  },
  {
   "cell_type": "markdown",
   "metadata": {},
   "source": [
    "## 1. Convolution \n",
    "\n",
    "### <font color=\"red\">透過 Feature Detector 做出 Feature Maps ， 由 Feature Maps 構成 Convolution Layer</font>\n",
    "\n",
    "> 透過 Feature Detector 做出 Feature Map\n",
    "\n",
    "> ![img2](http://brohrer.github.io/images/cnn6.png)\n",
    "\n",
    "\n",
    "> 由 Feature Maps 構成 Convolution Layer\n",
    "\n",
    "> ![img3](http://brohrer.github.io/images/cnn7.png)\n",
    "\n",
    "\n",
    "\n",
    "\n",
    "\n",
    "## 2. ReLU (線性整流單元)\n",
    "\n",
    "### <font color=\"red\">線性整流單元（Rectified Linear Unit，ReLU），它的數學原理也很簡單——將圖片上的所有負數轉為 0。這個技巧可以避免 CNNs 的運算結果趨近 0 或無限大</font>\n",
    "\n",
    "它就像 CNNs 的車軸潤滑劑一樣——沒有什麼很酷的技術，但沒有它 CNNs 也跑不了多遠。\n",
    "\n",
    "\n",
    "> ![img4](http://brohrer.github.io/images/cnn10.png)\n",
    "\n",
    "\n",
    "> ![img5](http://brohrer.github.io/images/cnn11.png)\n",
    "\n",
    "\n",
    "\n",
    "\n",
    "## 3. Pooling\n",
    "\n",
    "### <font color=\"red\">另一個 CNNs 所使用的強大工具是池化（pooling）。池化是一個壓縮圖片並保留重要資訊的方法</font>\n",
    "\n",
    "\n",
    "> ![img6](http://brohrer.github.io/images/cnn12.png)\n",
    "\n",
    "\n",
    "## 4. Flattening -> Fully Connected Layer (Input Layer -> Hidden Layer -> Output Layer)\n",
    "\n",
    "\n",
    "### <font color=\"red\">所以原圖在經過篩選、整流、池化之後會變成一組更小、包含特徵資訊的圖片。接下來，這些圖片還可以再被篩選和壓縮，它們的特徵會隨著每次處理變得更複雜，圖片也會變得更小。</font>最後，比較低階的處理層會包含一些簡單的特徵，例如稜角或光點；更高階的處理層則會包含一些比較複雜的特徵，像是形狀或圖案。這些高階的特徵通常已經變得很好辨識，比方說在人臉辨識的 CNN 中，我們可以在最高階的處理層內看出完整的人臉。\n",
    "\n",
    "> ![img7](http://brohrer.github.io/images/cnn13.png)\n",
    "\n",
    "\n",
    "\n",
    "\n"
   ]
  },
  {
   "cell_type": "code",
   "execution_count": 1,
   "metadata": {},
   "outputs": [
    {
     "data": {
      "text/html": [
       "\n",
       "        <iframe\n",
       "            width=\"400\"\n",
       "            height=\"300\"\n",
       "            src=\"https://www.youtube.com/embed/FmpDIaiMIeA?t=13m40s\"\n",
       "            frameborder=\"0\"\n",
       "            allowfullscreen\n",
       "        ></iframe>\n",
       "        "
      ],
      "text/plain": [
       "<IPython.lib.display.YouTubeVideo at 0x104a82160>"
      ]
     },
     "execution_count": 1,
     "metadata": {},
     "output_type": "execute_result"
    }
   ],
   "source": [
    "from IPython.display import YouTubeVideo\n",
    "\n",
    "YouTubeVideo('FmpDIaiMIeA?t=13m40s')"
   ]
  },
  {
   "cell_type": "code",
   "execution_count": null,
   "metadata": {},
   "outputs": [],
   "source": []
  }
 ],
 "metadata": {
  "kernelspec": {
   "display_name": "TensorFlow",
   "language": "python",
   "name": "tensorflow"
  },
  "language_info": {
   "codemirror_mode": {
    "name": "ipython",
    "version": 3
   },
   "file_extension": ".py",
   "mimetype": "text/x-python",
   "name": "python",
   "nbconvert_exporter": "python",
   "pygments_lexer": "ipython3",
   "version": "3.6.8"
  }
 },
 "nbformat": 4,
 "nbformat_minor": 2
}
